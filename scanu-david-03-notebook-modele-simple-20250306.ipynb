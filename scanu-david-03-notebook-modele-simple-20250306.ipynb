{
 "cells": [
  {
   "cell_type": "markdown",
   "metadata": {},
   "source": [
    "# Projet 7 - Réalisez une analyse de sentiments grâce au Deep Learning\n",
    "\n",
    "> 🎓 OpenClassrooms • Parcours [AI Engineer](https://openclassrooms.com/fr/paths/795-ai-engineer) | 👋 *Étudiant* : [David Scanu](https://www.linkedin.com/in/davidscanu14/)\n",
    "\n",
    "## 📝 Contexte\n",
    "\n",
    "Dans le cadre de ma formation d'AI Engineer chez OpenClassrooms, ce projet s'inscrit dans un scénario professionnel où j'interviens en tant qu'ingénieur IA chez MIC (Marketing Intelligence Consulting), entreprise de conseil spécialisée en marketing digital.\n",
    "\n",
    "Notre client, Air Paradis (compagnie aérienne), souhaite **anticiper les bad buzz sur les réseaux sociaux**. La mission consiste à développer un produit IA permettant de **prédire le sentiment associé à un tweet**, afin d'améliorer la gestion de sa réputation en ligne.\n",
    "\n",
    "## ⚡ Mission\n",
    "\n",
    "> Développer un modèle d'IA permettant de prédire le sentiment associé à un tweet.\n",
    "\n",
    "Créer un prototype fonctionnel d'un modèle d'**analyse de sentiments pour tweets** selon trois approches différentes :\n",
    "\n",
    "1. **Modèle sur mesure simple** : Approche classique (régression logistique) pour une prédiction rapide\n",
    "2. **Modèle sur mesure avancé** : Utilisation de réseaux de neurones profonds avec différents word embeddings\n",
    "3. **Modèle avancé BERT** : Exploration de l'apport en performance d'un modèle BERT\n",
    "\n",
    "Cette mission implique également la mise en œuvre d'une démarche MLOps complète :\n",
    "- Utilisation de MLFlow pour le tracking des expérimentations et le stockage des modèles\n",
    "- Création d'un pipeline de déploiement continu (Git + Github + plateforme Cloud)\n",
    "- Intégration de tests unitaires automatisés\n",
    "- Mise en place d'un suivi de performance en production via Azure Application Insight\n",
    "\n",
    "## 🗓️ Plan de travail\n",
    "\n",
    "1. **Exploration et préparation des données**\n",
    "   - Acquisition des données de tweets Open Source\n",
    "   - Analyse exploratoire et prétraitement des textes\n",
    "\n",
    "2. **Développement des modèles**\n",
    "   - Implémentation du modèle classique (régression logistique)\n",
    "   - Conception du modèle avancé avec différents word embeddings\n",
    "   - Test du modèle BERT pour l'analyse de sentiments\n",
    "   - Comparaison des performances via MLFlow\n",
    "\n",
    "3. **Mise en place de la démarche MLOps**\n",
    "   - Configuration de MLFlow pour le tracking des expérimentations\n",
    "   - Création du dépôt Git avec structure de projet appropriée\n",
    "   - Implémentation des tests unitaires automatisés\n",
    "   - Configuration du pipeline de déploiement continu\n",
    "\n",
    "4. **Déploiement et monitoring**\n",
    "   - Développement de l'API de prédiction avec FastAPI\n",
    "   - Déploiement sur Heroku\n",
    "   - Création de l'interface de test (Streamlit ou Next.js)\n",
    "   - Configuration du suivi via Azure Application Insight\n",
    "\n",
    "5. **Communication**\n",
    "   - Rédaction de l'article de blog\n",
    "   - Préparation du support de présentation"
   ]
  },
  {
   "cell_type": "markdown",
   "metadata": {},
   "source": [
    "## Importation des bibliothèques"
   ]
  },
  {
   "cell_type": "code",
   "execution_count": 9,
   "metadata": {},
   "outputs": [
    {
     "name": "stderr",
     "output_type": "stream",
     "text": [
      "[nltk_data] Downloading package punkt_tab to /home/david/nltk_data...\n",
      "[nltk_data]   Unzipping tokenizers/punkt_tab.zip.\n",
      "[nltk_data] Downloading package stopwords to /home/david/nltk_data...\n",
      "[nltk_data]   Package stopwords is already up-to-date!\n",
      "[nltk_data] Downloading package wordnet to /home/david/nltk_data...\n",
      "[nltk_data]   Package wordnet is already up-to-date!\n"
     ]
    }
   ],
   "source": [
    "import pandas as pd\n",
    "import numpy as np\n",
    "import matplotlib.pyplot as plt\n",
    "import seaborn as sns\n",
    "import requests\n",
    "import zipfile\n",
    "import os\n",
    "import re\n",
    "import datetime\n",
    "import warnings\n",
    "import string\n",
    "\n",
    "# Télécharger les ressources NLTK nécessaires\n",
    "import nltk\n",
    "nltk.download('punkt_tab')\n",
    "nltk.download('stopwords')\n",
    "nltk.download('wordnet')\n",
    "from nltk.corpus import stopwords\n",
    "from nltk.tokenize import word_tokenize\n",
    "from nltk.util import ngrams\n",
    "from collections import Counter\n",
    "from wordcloud import WordCloud\n",
    "from nltk.stem import WordNetLemmatizer\n",
    "\n",
    "plt.style.use('ggplot')\n",
    "plt.rcParams['figure.figsize'] = (12, 8)\n",
    "plt.rcParams['font.family'] = 'DejaVu Sans'\n",
    "warnings.filterwarnings('ignore')"
   ]
  },
  {
   "cell_type": "markdown",
   "metadata": {},
   "source": [
    "## 💾 Jeu de données : Sentiment140\n",
    "\n",
    "Le jeu de données [Sentiment140 dataset with 1.6 million tweets](https://www.kaggle.com/datasets/kazanova/sentiment140) est une ressource majeure pour l'analyse de sentiment sur Twitter, comprenant **1,6 million de tweets** extraits via l'API Twitter. Ces tweets ont été automatiquement annotés selon leur polarité sentimentale, offrant une base solide pour développer des modèles de classification de sentiment.\n",
    "\n",
    "Le jeu de données est organisé en 6 colonnes distinctes :\n",
    "\n",
    "1. **target** : La polarité du sentiment exprimé dans le tweet.\n",
    "   - 0 = sentiment négatif\n",
    "   - 2 = sentiment neutre\n",
    "   - 4 = sentiment positif\n",
    "2. **ids** : L'identifiant unique du tweet (exemple : *2087*)\n",
    "3. **date** : La date et l'heure de publication du tweet.\n",
    "4. **flag** : La requête utilisée pour obtenir le tweet.\n",
    "   - Exemple : *lyx*\n",
    "   - Si aucune requête n'a été utilisée : *NO_QUERY*\n",
    "5. **user** : Le nom d'utilisateur de l'auteur du tweet.\n",
    "6. **text** : Le contenu textuel du tweet."
   ]
  },
  {
   "cell_type": "code",
   "execution_count": 2,
   "metadata": {},
   "outputs": [
    {
     "name": "stdout",
     "output_type": "stream",
     "text": [
      "CPU times: user 712 μs, sys: 37 μs, total: 749 μs\n",
      "Wall time: 754 μs\n"
     ]
    }
   ],
   "source": [
    "%%time \n",
    "\n",
    "# Define the URL and the local file path\n",
    "url = \"https://s3-eu-west-1.amazonaws.com/static.oc-static.com/prod/courses/files/AI+Engineer/Project+7%C2%A0-+D%C3%A9tectez+les+Bad+Buzz+gr%C3%A2ce+au+Deep+Learning/sentiment140.zip\"\n",
    "local_zip_path = \"./content/data/sentiment140.zip\"\n",
    "extract_path = \"./content/data\"\n",
    "\n",
    "if not os.path.exists(extract_path):\n",
    "\n",
    "    # Create the directory if it doesn't exist\n",
    "    os.makedirs(extract_path, exist_ok=True)\n",
    "\n",
    "    # Download the zip file\n",
    "    response = requests.get(url)\n",
    "    with open(local_zip_path, 'wb') as file:\n",
    "        file.write(response.content)\n",
    "\n",
    "    # Extract the contents of the zip file\n",
    "    with zipfile.ZipFile(local_zip_path, 'r') as zip_ref:\n",
    "        zip_ref.extractall(extract_path)\n",
    "\n",
    "    # Delete the zip file\n",
    "    os.remove(local_zip_path)"
   ]
  },
  {
   "cell_type": "code",
   "execution_count": 3,
   "metadata": {},
   "outputs": [],
   "source": [
    "pd.set_option('display.max_columns', None)\n",
    "pd.set_option('display.expand_frame_repr', False)"
   ]
  },
  {
   "cell_type": "code",
   "execution_count": 4,
   "metadata": {},
   "outputs": [
    {
     "data": {
      "text/html": [
       "<div>\n",
       "<style scoped>\n",
       "    .dataframe tbody tr th:only-of-type {\n",
       "        vertical-align: middle;\n",
       "    }\n",
       "\n",
       "    .dataframe tbody tr th {\n",
       "        vertical-align: top;\n",
       "    }\n",
       "\n",
       "    .dataframe thead th {\n",
       "        text-align: right;\n",
       "    }\n",
       "</style>\n",
       "<table border=\"1\" class=\"dataframe\">\n",
       "  <thead>\n",
       "    <tr style=\"text-align: right;\">\n",
       "      <th></th>\n",
       "      <th>target</th>\n",
       "      <th>ids</th>\n",
       "      <th>date</th>\n",
       "      <th>flag</th>\n",
       "      <th>user</th>\n",
       "      <th>text</th>\n",
       "    </tr>\n",
       "  </thead>\n",
       "  <tbody>\n",
       "    <tr>\n",
       "      <th>0</th>\n",
       "      <td>0</td>\n",
       "      <td>1467810369</td>\n",
       "      <td>Mon Apr 06 22:19:45 PDT 2009</td>\n",
       "      <td>NO_QUERY</td>\n",
       "      <td>_TheSpecialOne_</td>\n",
       "      <td>@switchfoot http://twitpic.com/2y1zl - Awww, t...</td>\n",
       "    </tr>\n",
       "    <tr>\n",
       "      <th>1</th>\n",
       "      <td>0</td>\n",
       "      <td>1467810672</td>\n",
       "      <td>Mon Apr 06 22:19:49 PDT 2009</td>\n",
       "      <td>NO_QUERY</td>\n",
       "      <td>scotthamilton</td>\n",
       "      <td>is upset that he can't update his Facebook by ...</td>\n",
       "    </tr>\n",
       "    <tr>\n",
       "      <th>2</th>\n",
       "      <td>0</td>\n",
       "      <td>1467810917</td>\n",
       "      <td>Mon Apr 06 22:19:53 PDT 2009</td>\n",
       "      <td>NO_QUERY</td>\n",
       "      <td>mattycus</td>\n",
       "      <td>@Kenichan I dived many times for the ball. Man...</td>\n",
       "    </tr>\n",
       "    <tr>\n",
       "      <th>3</th>\n",
       "      <td>0</td>\n",
       "      <td>1467811184</td>\n",
       "      <td>Mon Apr 06 22:19:57 PDT 2009</td>\n",
       "      <td>NO_QUERY</td>\n",
       "      <td>ElleCTF</td>\n",
       "      <td>my whole body feels itchy and like its on fire</td>\n",
       "    </tr>\n",
       "    <tr>\n",
       "      <th>4</th>\n",
       "      <td>0</td>\n",
       "      <td>1467811193</td>\n",
       "      <td>Mon Apr 06 22:19:57 PDT 2009</td>\n",
       "      <td>NO_QUERY</td>\n",
       "      <td>Karoli</td>\n",
       "      <td>@nationwideclass no, it's not behaving at all....</td>\n",
       "    </tr>\n",
       "  </tbody>\n",
       "</table>\n",
       "</div>"
      ],
      "text/plain": [
       "   target         ids                          date      flag             user                                               text\n",
       "0       0  1467810369  Mon Apr 06 22:19:45 PDT 2009  NO_QUERY  _TheSpecialOne_  @switchfoot http://twitpic.com/2y1zl - Awww, t...\n",
       "1       0  1467810672  Mon Apr 06 22:19:49 PDT 2009  NO_QUERY    scotthamilton  is upset that he can't update his Facebook by ...\n",
       "2       0  1467810917  Mon Apr 06 22:19:53 PDT 2009  NO_QUERY         mattycus  @Kenichan I dived many times for the ball. Man...\n",
       "3       0  1467811184  Mon Apr 06 22:19:57 PDT 2009  NO_QUERY          ElleCTF    my whole body feels itchy and like its on fire \n",
       "4       0  1467811193  Mon Apr 06 22:19:57 PDT 2009  NO_QUERY           Karoli  @nationwideclass no, it's not behaving at all...."
      ]
     },
     "execution_count": 4,
     "metadata": {},
     "output_type": "execute_result"
    }
   ],
   "source": [
    "\n",
    "# Define the path to the CSV file\n",
    "csv_file_path = os.path.join(extract_path, 'training.1600000.processed.noemoticon.csv')\n",
    "\n",
    "# Define the column names\n",
    "column_names = ['target', 'ids', 'date', 'flag', 'user', 'text']\n",
    "\n",
    "# Load the dataset into a pandas DataFrame\n",
    "raw_data = pd.read_csv(csv_file_path, encoding='latin-1', names=column_names)\n",
    "\n",
    "# Display the first few rows of the DataFrame\n",
    "raw_data.head()"
   ]
  },
  {
   "cell_type": "code",
   "execution_count": 5,
   "metadata": {},
   "outputs": [
    {
     "name": "stdout",
     "output_type": "stream",
     "text": [
      "Ce dataframe contient 1600000 lignes et 6 colonnes.\n"
     ]
    }
   ],
   "source": [
    "print(f\"Ce dataframe contient {raw_data.shape[0]} lignes et {raw_data.shape[1]} colonnes.\")"
   ]
  },
  {
   "cell_type": "markdown",
   "metadata": {},
   "source": [
    "### Recommandations de modélisation\n",
    "\n",
    "Approches recommandées pour l'analyse de sentiment:\n",
    "\n",
    "1. Approches classiques de Machine Learning:\n",
    "   - Modèles basés sur les sacs de mots (BoW) ou TF-IDF avec classifieurs comme Régression Logistique, SVM, Random Forest ou Naive Bayes\n",
    "   - Avantages: rapides à entraîner, interprétables\n",
    "   - Inconvénients: ne capturent pas la sémantique et l'ordre des mots\n",
    "\n",
    "2. Word Embeddings + Classifieurs:\n",
    "   - Utiliser des embeddings pré-entraînés (Word2Vec, GloVe, FastText) avec des classifieurs ML\n",
    "   - Avantages: capture la sémantique des mots, gère les mots hors vocabulaire (FastText)\n",
    "   - Inconvénients: perd l'information de séquence\n",
    "\n",
    "3. Réseaux de neurones récurrents (RNN, **LSTM**, GRU):\n",
    "   - Avantages: capture l'information séquentielle, efficace pour le texte\n",
    "   - Inconvénients: temps d'entraînement plus long, risque de surapprentissage\n",
    "\n",
    "4. Modèles transformers (BERT, Sentence Transformers, RoBERTa, DistilBERT):\n",
    "   - Fine-tuning de modèles pré-entraînés spécifiques à Twitter comme BERTweet\n",
    "   - Avantages: état de l'art en NLP, capture le contexte bidirectionnel\n",
    "   - Inconvénients: coûteux en ressources, complexe à déployer\n",
    "\n",
    "5. Approches d'ensemble:\n",
    "   - Combiner plusieurs modèles pour obtenir de meilleures performances\n",
    "   - Avantages: souvent meilleures performances, plus robuste\n",
    "   - Inconvénients: complexité accrue, temps d'inférence plus long\n",
    "\n",
    "Considérations importantes:\n",
    "\n",
    "1. Déséquilibre des classes: utiliser des techniques comme SMOTE, sous-échantillonnage, ou pondération des classes\n",
    "2. Validation croisée: essentielle pour évaluer correctement les performances\n",
    "3. Métriques d'évaluation: ne pas se limiter à l'accuracy, utiliser F1-score, précision, rappel, et AUC-ROC\n",
    "4. Interprétabilité: pour certaines applications, privilégier des modèles interprétables ou utiliser SHAP/LIME\n",
    "5. Dépendance temporelle: considérer l'évolution du langage sur Twitter au fil du temps"
   ]
  },
  {
   "cell_type": "markdown",
   "metadata": {},
   "source": [
    "**Notes du mentor :**\n",
    "\n",
    "Voici le texte extrait de cette capture d'écran :\n",
    "\n",
    "- Création de deux modèles de Deep Learning, dont au moins un avec un layer LSTM.\n",
    "- Simulation selon deux techniques de pré-traitement (lemmatization, stemming) sur l'un des 2 modèles, afin de choisir la technique pour la suite des simulations.\n",
    "- Simulation selon 2 approches de word embedding (parmi Word2VEc, Glove, FastText), entraînés avec le jeu de données ou pré-entraînés sur au moins un des 2 modèles de Deep Learning, afin de choisir l'embedding pour la suite des simulations.\n",
    "- Création ensuite d'un modèle BERT, il y a 2 approches possibles :\n",
    "  - Générer des features (sentence embedding) à partir d'un TFBertModel (Hugging Face) ou d'un d'un model via le Hub TensorFlow, puis ajouter une ou des couches de classification\n",
    "  - Utiliser directement un modèle Hugging Face de type TFBertForSequenceClassification\n",
    "- En option tester USE (Universal Sentence Encoding) pour le feature engineering\n",
    "\n",
    "Problèmes et erreurs courants :\n",
    "- Temps de traitement et limitation de ressources en TensorFlow-Keras.\n",
    "- Inspirer des exemples de modèles cités en ressources\n"
   ]
  },
  {
   "cell_type": "markdown",
   "metadata": {},
   "source": [
    "## Approches classiques de Machine Learning"
   ]
  },
  {
   "cell_type": "code",
   "execution_count": 12,
   "metadata": {},
   "outputs": [
    {
     "data": {
      "text/html": [
       "<div>\n",
       "<style scoped>\n",
       "    .dataframe tbody tr th:only-of-type {\n",
       "        vertical-align: middle;\n",
       "    }\n",
       "\n",
       "    .dataframe tbody tr th {\n",
       "        vertical-align: top;\n",
       "    }\n",
       "\n",
       "    .dataframe thead th {\n",
       "        text-align: right;\n",
       "    }\n",
       "</style>\n",
       "<table border=\"1\" class=\"dataframe\">\n",
       "  <thead>\n",
       "    <tr style=\"text-align: right;\">\n",
       "      <th></th>\n",
       "      <th>target</th>\n",
       "      <th>ids</th>\n",
       "      <th>date</th>\n",
       "      <th>flag</th>\n",
       "      <th>user</th>\n",
       "      <th>text</th>\n",
       "    </tr>\n",
       "  </thead>\n",
       "  <tbody>\n",
       "    <tr>\n",
       "      <th>0</th>\n",
       "      <td>0</td>\n",
       "      <td>1467810369</td>\n",
       "      <td>Mon Apr 06 22:19:45 PDT 2009</td>\n",
       "      <td>NO_QUERY</td>\n",
       "      <td>_TheSpecialOne_</td>\n",
       "      <td>@switchfoot http://twitpic.com/2y1zl - Awww, t...</td>\n",
       "    </tr>\n",
       "    <tr>\n",
       "      <th>1</th>\n",
       "      <td>0</td>\n",
       "      <td>1467810672</td>\n",
       "      <td>Mon Apr 06 22:19:49 PDT 2009</td>\n",
       "      <td>NO_QUERY</td>\n",
       "      <td>scotthamilton</td>\n",
       "      <td>is upset that he can't update his Facebook by ...</td>\n",
       "    </tr>\n",
       "    <tr>\n",
       "      <th>2</th>\n",
       "      <td>0</td>\n",
       "      <td>1467810917</td>\n",
       "      <td>Mon Apr 06 22:19:53 PDT 2009</td>\n",
       "      <td>NO_QUERY</td>\n",
       "      <td>mattycus</td>\n",
       "      <td>@Kenichan I dived many times for the ball. Man...</td>\n",
       "    </tr>\n",
       "    <tr>\n",
       "      <th>3</th>\n",
       "      <td>0</td>\n",
       "      <td>1467811184</td>\n",
       "      <td>Mon Apr 06 22:19:57 PDT 2009</td>\n",
       "      <td>NO_QUERY</td>\n",
       "      <td>ElleCTF</td>\n",
       "      <td>my whole body feels itchy and like its on fire</td>\n",
       "    </tr>\n",
       "    <tr>\n",
       "      <th>4</th>\n",
       "      <td>0</td>\n",
       "      <td>1467811193</td>\n",
       "      <td>Mon Apr 06 22:19:57 PDT 2009</td>\n",
       "      <td>NO_QUERY</td>\n",
       "      <td>Karoli</td>\n",
       "      <td>@nationwideclass no, it's not behaving at all....</td>\n",
       "    </tr>\n",
       "  </tbody>\n",
       "</table>\n",
       "</div>"
      ],
      "text/plain": [
       "   target         ids                          date      flag             user                                               text\n",
       "0       0  1467810369  Mon Apr 06 22:19:45 PDT 2009  NO_QUERY  _TheSpecialOne_  @switchfoot http://twitpic.com/2y1zl - Awww, t...\n",
       "1       0  1467810672  Mon Apr 06 22:19:49 PDT 2009  NO_QUERY    scotthamilton  is upset that he can't update his Facebook by ...\n",
       "2       0  1467810917  Mon Apr 06 22:19:53 PDT 2009  NO_QUERY         mattycus  @Kenichan I dived many times for the ball. Man...\n",
       "3       0  1467811184  Mon Apr 06 22:19:57 PDT 2009  NO_QUERY          ElleCTF    my whole body feels itchy and like its on fire \n",
       "4       0  1467811193  Mon Apr 06 22:19:57 PDT 2009  NO_QUERY           Karoli  @nationwideclass no, it's not behaving at all...."
      ]
     },
     "execution_count": 12,
     "metadata": {},
     "output_type": "execute_result"
    }
   ],
   "source": [
    "df = raw_data.copy()\n",
    "df.head()"
   ]
  },
  {
   "cell_type": "code",
   "execution_count": 13,
   "metadata": {},
   "outputs": [],
   "source": [
    "from multiprocessing import Pool\n",
    "\n",
    "# Fonction de prétraitement pour les tweets\n",
    "def preprocess_tweet(tweet):\n",
    "    \"\"\"\n",
    "    Prétraite un tweet en appliquant plusieurs transformations :\n",
    "    - Conversion en minuscules\n",
    "    - Remplacement des URLs, mentions et hashtags par des tokens spéciaux\n",
    "    - Suppression des caractères spéciaux\n",
    "    - Tokenisation et lemmatisation\n",
    "    - Suppression des stopwords\n",
    "    \"\"\"\n",
    "    # Vérifier si le tweet est une chaîne de caractères\n",
    "    if not isinstance(tweet, str):\n",
    "        return \"\"\n",
    "    \n",
    "    # Convertir en minuscules\n",
    "    tweet = tweet.lower()\n",
    "    \n",
    "    # Remplacer les URLs par un token spécial\n",
    "    tweet = re.sub(r'https?://\\S+|www\\.\\S+', '<URL>', tweet)\n",
    "    \n",
    "    # Remplacer les mentions par un token spécial\n",
    "    tweet = re.sub(r'@\\w+', '<MENTION>', tweet)\n",
    "    \n",
    "    # Traiter les hashtags (conserver le # comme token séparé et le mot qui suit)\n",
    "    tweet = re.sub(r'#(\\w+)', r'# \\1', tweet)\n",
    "    \n",
    "    # Supprimer les caractères spéciaux et les nombres, mais garder les tokens spéciaux\n",
    "    tweet = re.sub(r'[^\\w\\s<>@#!?]', '', tweet)\n",
    "    \n",
    "    # Tokenisation\n",
    "    tokens = word_tokenize(tweet)\n",
    "    \n",
    "    # Lemmatisation\n",
    "    lemmatizer = WordNetLemmatizer()\n",
    "    tokens = [lemmatizer.lemmatize(token) for token in tokens]\n",
    "    \n",
    "    # Supprimer les stopwords, mais conserver les négations importantes\n",
    "    stop_words = set(stopwords.words('english'))\n",
    "    important_words = {'no', 'not', 'nor', 'neither', 'never', 'nobody', 'none', 'nothing', 'nowhere'}\n",
    "    stop_words = stop_words - important_words\n",
    "    tokens = [token for token in tokens if token not in stop_words]\n",
    "    \n",
    "    # Rejoindre les tokens en une chaîne\n",
    "    return ' '.join(tokens)\n",
    "\n",
    "\n",
    "def process_in_parallel(df, func, n_jobs=4):\n",
    "    df_split = np.array_split(df, n_jobs)\n",
    "    pool = Pool(n_jobs)\n",
    "    df = pd.concat(pool.map(func, df_split))\n",
    "    pool.close()\n",
    "    pool.join()\n",
    "    return df\n",
    "\n",
    "def apply_preprocessing(df_part):\n",
    "    df_part['processed_text'] = df_part['text'].apply(preprocess_tweet)\n",
    "    return df_part"
   ]
  },
  {
   "cell_type": "code",
   "execution_count": 15,
   "metadata": {},
   "outputs": [
    {
     "data": {
      "text/plain": [
       "(1600000, 6)"
      ]
     },
     "execution_count": 15,
     "metadata": {},
     "output_type": "execute_result"
    }
   ],
   "source": [
    "df.shape"
   ]
  },
  {
   "cell_type": "code",
   "execution_count": 16,
   "metadata": {},
   "outputs": [
    {
     "data": {
      "text/plain": [
       "target\n",
       "0    800000\n",
       "4    800000\n",
       "Name: count, dtype: int64"
      ]
     },
     "execution_count": 16,
     "metadata": {},
     "output_type": "execute_result"
    }
   ],
   "source": [
    "df['target'].value_counts()"
   ]
  },
  {
   "cell_type": "code",
   "execution_count": 17,
   "metadata": {},
   "outputs": [
    {
     "name": "stdout",
     "output_type": "stream",
     "text": [
      "Prétraitement des tweets en cours...\n",
      "Prétraitement terminé !\n"
     ]
    }
   ],
   "source": [
    "# Appliquer le prétraitement à tous les tweets\n",
    "print(\"Prétraitement des tweets en cours...\")\n",
    "# df['processed_text'] = df['text'].apply(preprocess_tweet)\n",
    "\n",
    "# Préparation des données pour l'entraînement\n",
    "# Convertir les étiquettes de sentiment (0 et 4) en binaire (0 et 1)\n",
    "df['target'] = df['target'].map({0: 0, 4: 1})\n",
    "\n",
    "# Pour accélérer le développement, nous pouvons utiliser un sous-ensemble des données\n",
    "# Utiliser un échantillon équilibré des données\n",
    "negative_samples = df[df['target'] == 0].sample(n=50000, random_state=42)\n",
    "positive_samples = df[df['target'] == 1].sample(n=50000, random_state=42)\n",
    "balanced_df = pd.concat([negative_samples, positive_samples])\n",
    "\n",
    "# Utilisation\n",
    "balanced_df = process_in_parallel(balanced_df, apply_preprocessing, n_jobs=8)\n",
    "\n",
    "print(\"Prétraitement terminé !\")"
   ]
  },
  {
   "cell_type": "code",
   "execution_count": null,
   "metadata": {},
   "outputs": [],
   "source": [
    "# Extraire des features supplémentaires basées sur nos observations\n",
    "def extract_features(tweet):\n",
    "    \"\"\"\n",
    "    Extrait des features supplémentaires d'un tweet\n",
    "    \"\"\"\n",
    "    if not isinstance(tweet, str):\n",
    "        return pd.Series([0, 0, 0, 0, 0, 0])\n",
    "    \n",
    "    features = {\n",
    "        'url_count': len(re.findall(r'http[s]?://\\S+', tweet)),\n",
    "        'mention_count': len(re.findall(r'@\\w+', tweet)),\n",
    "        'hashtag_count': len(re.findall(r'#\\w+', tweet)),\n",
    "        'exclamation_count': tweet.count('!'),\n",
    "        'question_count': tweet.count('?'),\n",
    "        'ellipsis_count': len(re.findall(r'\\.{3,}', tweet)),\n",
    "    }\n",
    "    \n",
    "    return pd.Series(features)\n",
    "\n",
    "# Extraire les features supplémentaires\n",
    "print(\"Extraction des features supplémentaires...\")\n",
    "features_df = balanced_df['text'].apply(extract_features)\n",
    "balanced_df = pd.concat([balanced_df, features_df], axis=1)\n",
    "print(\"Extraction terminée !\")"
   ]
  },
  {
   "cell_type": "code",
   "execution_count": 18,
   "metadata": {},
   "outputs": [
    {
     "name": "stdout",
     "output_type": "stream",
     "text": [
      "Taille de l'ensemble d'entraînement: 80000 exemples\n",
      "Taille de l'ensemble de test: 20000 exemples\n",
      "Vectorisation terminée !\n"
     ]
    }
   ],
   "source": [
    "# Diviser les données en ensembles d'entraînement et de test\n",
    "from sklearn.model_selection import train_test_split\n",
    "\n",
    "X = balanced_df['processed_text']\n",
    "y = balanced_df['target']\n",
    "\n",
    "# Division train/test\n",
    "X_train, X_test, y_train, y_test = train_test_split(X, y, test_size=0.2, random_state=42, stratify=y)\n",
    "\n",
    "print(f\"Taille de l'ensemble d'entraînement: {X_train.shape[0]} exemples\")\n",
    "print(f\"Taille de l'ensemble de test: {X_test.shape[0]} exemples\")\n",
    "\n",
    "# Vectorisation des textes avec TF-IDF\n",
    "from sklearn.feature_extraction.text import TfidfVectorizer, CountVectorizer\n",
    "\n",
    "# Créer les vectoriseurs\n",
    "tfidf_vectorizer = TfidfVectorizer(max_features=10000, ngram_range=(1, 2))\n",
    "bow_vectorizer = CountVectorizer(max_features=10000, ngram_range=(1, 2))\n",
    "\n",
    "# Transformer les textes en vecteurs TF-IDF\n",
    "X_train_tfidf = tfidf_vectorizer.fit_transform(X_train)\n",
    "X_test_tfidf = tfidf_vectorizer.transform(X_test)\n",
    "\n",
    "# Transformer les textes en vecteurs BoW\n",
    "X_train_bow = bow_vectorizer.fit_transform(X_train)\n",
    "X_test_bow = bow_vectorizer.transform(X_test)\n",
    "\n",
    "print(\"Vectorisation terminée !\")"
   ]
  },
  {
   "cell_type": "code",
   "execution_count": null,
   "metadata": {},
   "outputs": [],
   "source": []
  }
 ],
 "metadata": {
  "kernelspec": {
   "display_name": ".venv",
   "language": "python",
   "name": "python3"
  },
  "language_info": {
   "codemirror_mode": {
    "name": "ipython",
    "version": 3
   },
   "file_extension": ".py",
   "mimetype": "text/x-python",
   "name": "python",
   "nbconvert_exporter": "python",
   "pygments_lexer": "ipython3",
   "version": "3.10.12"
  }
 },
 "nbformat": 4,
 "nbformat_minor": 2
}
