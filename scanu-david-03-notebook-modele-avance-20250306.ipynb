{
 "cells": [
  {
   "cell_type": "markdown",
   "metadata": {},
   "source": [
    "# Projet 7 - Réalisez une analyse de sentiments grâce au Deep Learning\n",
    "\n",
    "> 🎓 OpenClassrooms • Parcours [AI Engineer](https://openclassrooms.com/fr/paths/795-ai-engineer) | 👋 *Étudiant* : [David Scanu](https://www.linkedin.com/in/davidscanu14/)\n",
    "\n",
    "## Partie 3 : Approches avancée (embeddings pré-entraînés et deep learning)\n",
    "\n",
    "\n",
    "\n",
    "## 📝 Contexte\n",
    "\n",
    "Dans le cadre de ma formation d'AI Engineer chez OpenClassrooms, ce projet s'inscrit dans un scénario professionnel où j'interviens en tant qu'ingénieur IA chez MIC (Marketing Intelligence Consulting), entreprise de conseil spécialisée en marketing digital.\n",
    "\n",
    "Notre client, Air Paradis (compagnie aérienne), souhaite **anticiper les bad buzz sur les réseaux sociaux**. La mission consiste à développer un produit IA permettant de **prédire le sentiment associé à un tweet**, afin d'améliorer la gestion de sa réputation en ligne.\n",
    "\n",
    "## ⚡ Mission\n",
    "\n",
    "> Développer un modèle d'IA permettant de prédire le sentiment associé à un tweet.\n",
    "\n",
    "Créer un prototype fonctionnel d'un modèle d'**analyse de sentiments pour tweets** selon trois approches différentes :\n",
    "\n",
    "1. **Modèle sur mesure simple** : Approche classique (régression logistique) pour une prédiction rapide\n",
    "2. **Modèle sur mesure avancé** : Utilisation de réseaux de neurones profonds avec différents word embeddings\n",
    "3. **Modèle avancé BERT** : Exploration de l'apport en performance d'un modèle BERT\n",
    "\n",
    "Cette mission implique également la mise en œuvre d'une démarche MLOps complète :\n",
    "- Utilisation de **MLFlow** pour le tracking des expérimentations et le stockage des modèles\n",
    "- Création d'un pipeline de déploiement continu (Git + Github + plateforme Cloud)\n",
    "- Intégration de tests unitaires automatisés\n",
    "- Mise en place d'un suivi de performance en production via Azure Application Insight\n",
    "\n",
    "## 🗓️ Plan de travail\n",
    "\n",
    "1. **Exploration et préparation des données**\n",
    "   - Acquisition des données de tweets Open Source\n",
    "   - Analyse exploratoire et prétraitement des textes\n",
    "\n",
    "2. **Développement des modèles**\n",
    "   - Implémentation du modèle classique (régression logistique)\n",
    "   - Conception du modèle avancé avec différents word embeddings (Word2Vec)\n",
    "   - Test du modèle BERT pour l'analyse de sentiments\n",
    "   - Comparaison des performances via MLFlow\n",
    "\n",
    "3. **Mise en place de la démarche MLOps**\n",
    "   - Configuration de MLFlow pour le tracking des expérimentations\n",
    "   - Création du dépôt Git avec structure de projet appropriée\n",
    "   - Implémentation des tests unitaires automatisés\n",
    "   - Configuration du pipeline de déploiement continu\n",
    "\n",
    "4. **Déploiement et monitoring**\n",
    "   - Développement de l'API de prédiction avec FastAPI\n",
    "   - Déploiement sur Heroku\n",
    "   - Création de l'interface de test (Streamlit ou Next.js)\n",
    "   - Configuration du suivi via Azure Application Insight\n",
    "\n",
    "5. **Communication**\n",
    "   - Rédaction de l'article de blog\n",
    "   - Préparation du support de présentation"
   ]
  },
  {
   "cell_type": "markdown",
   "metadata": {},
   "source": [
    "## Importation des bibliothèques"
   ]
  },
  {
   "cell_type": "code",
   "execution_count": 1,
   "metadata": {},
   "outputs": [
    {
     "name": "stderr",
     "output_type": "stream",
     "text": [
      "[nltk_data] Downloading package punkt_tab to /home/david/nltk_data...\n",
      "[nltk_data]   Package punkt_tab is already up-to-date!\n",
      "[nltk_data] Downloading package stopwords to /home/david/nltk_data...\n",
      "[nltk_data]   Package stopwords is already up-to-date!\n",
      "[nltk_data] Downloading package wordnet to /home/david/nltk_data...\n",
      "[nltk_data]   Package wordnet is already up-to-date!\n"
     ]
    }
   ],
   "source": [
    "# Importations nécessaires\n",
    "import pandas as pd\n",
    "import numpy as np\n",
    "import matplotlib.pyplot as plt\n",
    "import seaborn as sns\n",
    "import os\n",
    "import re\n",
    "import time\n",
    "import warnings\n",
    "from collections import Counter\n",
    "import pickle\n",
    "from tqdm import tqdm\n",
    "\n",
    "# Importations NLTK\n",
    "import nltk\n",
    "nltk.download('punkt_tab')\n",
    "nltk.download('stopwords')\n",
    "nltk.download('wordnet')\n",
    "from nltk.corpus import stopwords\n",
    "from nltk.tokenize import word_tokenize\n",
    "from nltk.stem import WordNetLemmatizer\n",
    "\n",
    "# Importations scikit-learn\n",
    "from sklearn.feature_extraction.text import TfidfVectorizer, CountVectorizer\n",
    "from sklearn.model_selection import train_test_split, GridSearchCV\n",
    "from sklearn.linear_model import LogisticRegression\n",
    "from sklearn.svm import LinearSVC\n",
    "from sklearn.ensemble import RandomForestClassifier\n",
    "from sklearn.naive_bayes import MultinomialNB\n",
    "from sklearn.metrics import (accuracy_score, precision_score, recall_score, f1_score,\n",
    "                             fbeta_score, make_scorer, matthews_corrcoef, balanced_accuracy_score,\n",
    "                             classification_report, confusion_matrix, roc_auc_score, roc_curve)\n",
    "\n",
    "# Configuration des visualisations\n",
    "plt.style.use('ggplot')\n",
    "plt.rcParams['figure.figsize'] = (12, 8)\n",
    "plt.rcParams['font.family'] = 'DejaVu Sans'\n",
    "warnings.filterwarnings('ignore')"
   ]
  },
  {
   "cell_type": "markdown",
   "metadata": {},
   "source": [
    "## 💾 Jeu de données : Sentiment140\n",
    "\n",
    "Le jeu de données [Sentiment140 dataset with 1.6 million tweets](https://www.kaggle.com/datasets/kazanova/sentiment140) est une ressource majeure pour l'analyse de sentiment sur Twitter, comprenant **1,6 million de tweets** extraits via l'API Twitter. Ces tweets ont été automatiquement annotés selon leur polarité sentimentale, offrant une base solide pour développer des modèles de classification de sentiment.\n",
    "\n",
    "Le jeu de données est organisé en 6 colonnes distinctes :\n",
    "\n",
    "1. **target** : La polarité du sentiment exprimé dans le tweet.\n",
    "   - 0 = sentiment négatif\n",
    "   - 2 = sentiment neutre\n",
    "   - 4 = sentiment positif\n",
    "2. **ids** : L'identifiant unique du tweet (exemple : *2087*)\n",
    "3. **date** : La date et l'heure de publication du tweet.\n",
    "4. **flag** : La requête utilisée pour obtenir le tweet.\n",
    "   - Exemple : *lyx*\n",
    "   - Si aucune requête n'a été utilisée : *NO_QUERY*\n",
    "5. **user** : Le nom d'utilisateur de l'auteur du tweet.\n",
    "6. **text** : Le contenu textuel du tweet."
   ]
  },
  {
   "cell_type": "code",
   "execution_count": 2,
   "metadata": {},
   "outputs": [
    {
     "name": "stdout",
     "output_type": "stream",
     "text": [
      "CPU times: user 476 μs, sys: 64 μs, total: 540 μs\n",
      "Wall time: 512 μs\n"
     ]
    }
   ],
   "source": [
    "%%time \n",
    "\n",
    "# Define the URL and the local file path\n",
    "url = \"https://s3-eu-west-1.amazonaws.com/static.oc-static.com/prod/courses/files/AI+Engineer/Project+7%C2%A0-+D%C3%A9tectez+les+Bad+Buzz+gr%C3%A2ce+au+Deep+Learning/sentiment140.zip\"\n",
    "local_zip_path = \"./content/data/sentiment140.zip\"\n",
    "extract_path = \"./content/data\"\n",
    "\n",
    "if not os.path.exists(extract_path):\n",
    "\n",
    "    # Create the directory if it doesn't exist\n",
    "    os.makedirs(extract_path, exist_ok=True)\n",
    "\n",
    "    # Download the zip file\n",
    "    response = requests.get(url)\n",
    "    with open(local_zip_path, 'wb') as file:\n",
    "        file.write(response.content)\n",
    "\n",
    "    # Extract the contents of the zip file\n",
    "    with zipfile.ZipFile(local_zip_path, 'r') as zip_ref:\n",
    "        zip_ref.extractall(extract_path)\n",
    "\n",
    "    # Delete the zip file\n",
    "    os.remove(local_zip_path)"
   ]
  },
  {
   "cell_type": "code",
   "execution_count": 3,
   "metadata": {},
   "outputs": [],
   "source": [
    "pd.set_option('display.max_columns', None)\n",
    "pd.set_option('display.expand_frame_repr', True)"
   ]
  },
  {
   "cell_type": "code",
   "execution_count": 4,
   "metadata": {},
   "outputs": [
    {
     "data": {
      "text/html": [
       "<div>\n",
       "<style scoped>\n",
       "    .dataframe tbody tr th:only-of-type {\n",
       "        vertical-align: middle;\n",
       "    }\n",
       "\n",
       "    .dataframe tbody tr th {\n",
       "        vertical-align: top;\n",
       "    }\n",
       "\n",
       "    .dataframe thead th {\n",
       "        text-align: right;\n",
       "    }\n",
       "</style>\n",
       "<table border=\"1\" class=\"dataframe\">\n",
       "  <thead>\n",
       "    <tr style=\"text-align: right;\">\n",
       "      <th></th>\n",
       "      <th>target</th>\n",
       "      <th>ids</th>\n",
       "      <th>date</th>\n",
       "      <th>flag</th>\n",
       "      <th>user</th>\n",
       "      <th>text</th>\n",
       "    </tr>\n",
       "  </thead>\n",
       "  <tbody>\n",
       "    <tr>\n",
       "      <th>0</th>\n",
       "      <td>0</td>\n",
       "      <td>1467810369</td>\n",
       "      <td>Mon Apr 06 22:19:45 PDT 2009</td>\n",
       "      <td>NO_QUERY</td>\n",
       "      <td>_TheSpecialOne_</td>\n",
       "      <td>@switchfoot http://twitpic.com/2y1zl - Awww, t...</td>\n",
       "    </tr>\n",
       "    <tr>\n",
       "      <th>1</th>\n",
       "      <td>0</td>\n",
       "      <td>1467810672</td>\n",
       "      <td>Mon Apr 06 22:19:49 PDT 2009</td>\n",
       "      <td>NO_QUERY</td>\n",
       "      <td>scotthamilton</td>\n",
       "      <td>is upset that he can't update his Facebook by ...</td>\n",
       "    </tr>\n",
       "    <tr>\n",
       "      <th>2</th>\n",
       "      <td>0</td>\n",
       "      <td>1467810917</td>\n",
       "      <td>Mon Apr 06 22:19:53 PDT 2009</td>\n",
       "      <td>NO_QUERY</td>\n",
       "      <td>mattycus</td>\n",
       "      <td>@Kenichan I dived many times for the ball. Man...</td>\n",
       "    </tr>\n",
       "    <tr>\n",
       "      <th>3</th>\n",
       "      <td>0</td>\n",
       "      <td>1467811184</td>\n",
       "      <td>Mon Apr 06 22:19:57 PDT 2009</td>\n",
       "      <td>NO_QUERY</td>\n",
       "      <td>ElleCTF</td>\n",
       "      <td>my whole body feels itchy and like its on fire</td>\n",
       "    </tr>\n",
       "    <tr>\n",
       "      <th>4</th>\n",
       "      <td>0</td>\n",
       "      <td>1467811193</td>\n",
       "      <td>Mon Apr 06 22:19:57 PDT 2009</td>\n",
       "      <td>NO_QUERY</td>\n",
       "      <td>Karoli</td>\n",
       "      <td>@nationwideclass no, it's not behaving at all....</td>\n",
       "    </tr>\n",
       "  </tbody>\n",
       "</table>\n",
       "</div>"
      ],
      "text/plain": [
       "   target         ids                          date      flag  \\\n",
       "0       0  1467810369  Mon Apr 06 22:19:45 PDT 2009  NO_QUERY   \n",
       "1       0  1467810672  Mon Apr 06 22:19:49 PDT 2009  NO_QUERY   \n",
       "2       0  1467810917  Mon Apr 06 22:19:53 PDT 2009  NO_QUERY   \n",
       "3       0  1467811184  Mon Apr 06 22:19:57 PDT 2009  NO_QUERY   \n",
       "4       0  1467811193  Mon Apr 06 22:19:57 PDT 2009  NO_QUERY   \n",
       "\n",
       "              user                                               text  \n",
       "0  _TheSpecialOne_  @switchfoot http://twitpic.com/2y1zl - Awww, t...  \n",
       "1    scotthamilton  is upset that he can't update his Facebook by ...  \n",
       "2         mattycus  @Kenichan I dived many times for the ball. Man...  \n",
       "3          ElleCTF    my whole body feels itchy and like its on fire   \n",
       "4           Karoli  @nationwideclass no, it's not behaving at all....  "
      ]
     },
     "execution_count": 4,
     "metadata": {},
     "output_type": "execute_result"
    }
   ],
   "source": [
    "\n",
    "# Define the path to the CSV file\n",
    "csv_file_path = os.path.join(extract_path, 'training.1600000.processed.noemoticon.csv')\n",
    "\n",
    "# Define the column names\n",
    "column_names = ['target', 'ids', 'date', 'flag', 'user', 'text']\n",
    "\n",
    "# Load the dataset into a pandas DataFrame\n",
    "raw_data = pd.read_csv(csv_file_path, encoding='latin-1', names=column_names)\n",
    "\n",
    "# Display the first few rows of the DataFrame\n",
    "raw_data.head()"
   ]
  },
  {
   "cell_type": "code",
   "execution_count": 5,
   "metadata": {},
   "outputs": [
    {
     "name": "stdout",
     "output_type": "stream",
     "text": [
      "Ce dataframe contient 1600000 lignes et 6 colonnes.\n"
     ]
    }
   ],
   "source": [
    "print(f\"Ce dataframe contient {raw_data.shape[0]} lignes et {raw_data.shape[1]} colonnes.\")"
   ]
  },
  {
   "cell_type": "markdown",
   "metadata": {},
   "source": [
    "## Prétraitement\n",
    "\n",
    "Notre démarche pour la classification de sentiment avec des approches classiques comprend:\n",
    "\n",
    "1. **Prétraitement des tweets**\n",
    "   - Nettoyage\n",
    "   - Tokenisation et lemmatisation\n",
    "   - Remplacement des URLs et mentions par des tokens spéciaux\n",
    "\n"
   ]
  },
  {
   "cell_type": "code",
   "execution_count": 6,
   "metadata": {},
   "outputs": [],
   "source": [
    "def convert_sentiment_label(df):\n",
    "    converted_target_data = df.copy()\n",
    "    converted_target_data['target'] = converted_target_data['target'].apply(lambda x: 0 if x == 0 else 1)\n",
    "    return converted_target_data\n",
    "\n",
    "converted_target_data = convert_sentiment_label(raw_data)"
   ]
  },
  {
   "cell_type": "code",
   "execution_count": 7,
   "metadata": {},
   "outputs": [
    {
     "data": {
      "text/plain": [
       "target\n",
       "0    800000\n",
       "1    800000\n",
       "Name: count, dtype: int64"
      ]
     },
     "execution_count": 7,
     "metadata": {},
     "output_type": "execute_result"
    }
   ],
   "source": [
    "converted_target_data['target'].value_counts()"
   ]
  },
  {
   "cell_type": "code",
   "execution_count": 8,
   "metadata": {},
   "outputs": [
    {
     "data": {
      "text/plain": [
       "target\n",
       "0    50000\n",
       "1    50000\n",
       "Name: count, dtype: int64"
      ]
     },
     "execution_count": 8,
     "metadata": {},
     "output_type": "execute_result"
    }
   ],
   "source": [
    "def downsample_data(df, n_samples=50000):\n",
    "    \"\"\"\n",
    "    Réduit la taille d'un DataFrame en échantillonnant aléatoirement un nombre spécifié de lignes pour chaque classe.\n",
    "    \"\"\"\n",
    "    negative_samples = df[df['target'] == 0].sample(n=n_samples, random_state=42)\n",
    "    positive_samples = df[df['target'] == 1].sample(n=n_samples, random_state=42)\n",
    "    downsampled_data = pd.concat([negative_samples, positive_samples])\n",
    "    return downsampled_data\n",
    "\n",
    "downsampled_data = downsample_data(converted_target_data, n_samples=50000)\n",
    "downsampled_data['target'].value_counts()"
   ]
  },
  {
   "cell_type": "code",
   "execution_count": 9,
   "metadata": {},
   "outputs": [],
   "source": [
    "from multiprocessing import Pool\n",
    "\n",
    "# Fonction de prétraitement pour les tweets\n",
    "def preprocess_tweet(tweet):\n",
    "    \"\"\"\n",
    "    Prétraite un tweet en appliquant plusieurs transformations :\n",
    "    - Conversion en minuscules\n",
    "    - Remplacement des URLs, mentions et hashtags par des tokens spéciaux\n",
    "    - Suppression des caractères spéciaux\n",
    "    - Tokenisation et lemmatisation\n",
    "    - Suppression des stopwords\n",
    "    \"\"\"\n",
    "    # Vérifier si le tweet est une chaîne de caractères\n",
    "    if not isinstance(tweet, str):\n",
    "        return \"\"\n",
    "    \n",
    "    # Convertir en minuscules\n",
    "    tweet = tweet.lower()\n",
    "    \n",
    "    # Remplacer les URLs par un token spécial\n",
    "    tweet = re.sub(r'https?://\\S+|www\\.\\S+', '<URL>', tweet)\n",
    "    \n",
    "    # Remplacer les mentions par un token spécial\n",
    "    tweet = re.sub(r'@\\w+', '<MENTION>', tweet)\n",
    "    \n",
    "    # Traiter les hashtags (conserver le # comme token séparé et le mot qui suit)\n",
    "    tweet = re.sub(r'#(\\w+)', r'# \\1', tweet)\n",
    "    \n",
    "    # Supprimer les caractères spéciaux et les nombres, mais garder les tokens spéciaux\n",
    "    tweet = re.sub(r'[^\\w\\s<>@#!?]', '', tweet)\n",
    "    \n",
    "    # Tokenisation\n",
    "    tokens = word_tokenize(tweet)\n",
    "    \n",
    "    # Lemmatisation\n",
    "    lemmatizer = WordNetLemmatizer()\n",
    "    tokens = [lemmatizer.lemmatize(token) for token in tokens]\n",
    "    \n",
    "    # Supprimer les stopwords, mais conserver les négations importantes\n",
    "    stop_words = set(stopwords.words('english'))\n",
    "    important_words = {'no', 'not', 'nor', 'neither', 'never', 'nobody', 'none', 'nothing', 'nowhere'}\n",
    "    stop_words = stop_words - important_words\n",
    "    tokens = [token for token in tokens if token not in stop_words]\n",
    "    \n",
    "    # Rejoindre les tokens en une chaîne\n",
    "    return ' '.join(tokens)\n",
    "\n",
    "\n",
    "def process_in_parallel(df, func, n_jobs=4):\n",
    "    \"\"\"\n",
    "    Applique une fonction à un DataFrame en le divisant en parties et en traitant chaque partie en parallèle.\n",
    "    Permet d'accélérer le traitement sur les ordinateurs multi-coeurs.\n",
    "    \"\"\"\n",
    "    df_split = np.array_split(df, n_jobs)\n",
    "    pool = Pool(n_jobs)\n",
    "    df = pd.concat(pool.map(func, df_split))\n",
    "    pool.close()\n",
    "    pool.join()\n",
    "    return df\n",
    "\n",
    "def apply_preprocessing(df_part):\n",
    "    df_part['processed_text'] = df_part['text'].apply(preprocess_tweet)\n",
    "    return df_part"
   ]
  },
  {
   "cell_type": "code",
   "execution_count": 10,
   "metadata": {},
   "outputs": [
    {
     "name": "stdout",
     "output_type": "stream",
     "text": [
      "Prétraitement des tweets en cours...\n",
      "Prétraitement terminé !\n"
     ]
    }
   ],
   "source": [
    "# Appliquer le prétraitement à tous les tweets\n",
    "print(\"Prétraitement des tweets en cours...\")\n",
    "preprocessed_data = process_in_parallel(downsampled_data, apply_preprocessing, n_jobs=8)\n",
    "print(\"Prétraitement terminé !\")"
   ]
  },
  {
   "cell_type": "code",
   "execution_count": 11,
   "metadata": {},
   "outputs": [
    {
     "data": {
      "text/html": [
       "<div>\n",
       "<style scoped>\n",
       "    .dataframe tbody tr th:only-of-type {\n",
       "        vertical-align: middle;\n",
       "    }\n",
       "\n",
       "    .dataframe tbody tr th {\n",
       "        vertical-align: top;\n",
       "    }\n",
       "\n",
       "    .dataframe thead th {\n",
       "        text-align: right;\n",
       "    }\n",
       "</style>\n",
       "<table border=\"1\" class=\"dataframe\">\n",
       "  <thead>\n",
       "    <tr style=\"text-align: right;\">\n",
       "      <th></th>\n",
       "      <th>target</th>\n",
       "      <th>ids</th>\n",
       "      <th>date</th>\n",
       "      <th>flag</th>\n",
       "      <th>user</th>\n",
       "      <th>text</th>\n",
       "      <th>processed_text</th>\n",
       "    </tr>\n",
       "  </thead>\n",
       "  <tbody>\n",
       "    <tr>\n",
       "      <th>212188</th>\n",
       "      <td>0</td>\n",
       "      <td>1974671194</td>\n",
       "      <td>Sat May 30 13:36:31 PDT 2009</td>\n",
       "      <td>NO_QUERY</td>\n",
       "      <td>simba98</td>\n",
       "      <td>@xnausikaax oh no! where did u order from? tha...</td>\n",
       "      <td>&lt; MENTION &gt; oh no ! u order ? thats horrible</td>\n",
       "    </tr>\n",
       "    <tr>\n",
       "      <th>299036</th>\n",
       "      <td>0</td>\n",
       "      <td>1997882236</td>\n",
       "      <td>Mon Jun 01 17:37:11 PDT 2009</td>\n",
       "      <td>NO_QUERY</td>\n",
       "      <td>Seve76</td>\n",
       "      <td>A great hard training weekend is over.  a coup...</td>\n",
       "      <td>great hard training weekend couple day rest le...</td>\n",
       "    </tr>\n",
       "    <tr>\n",
       "      <th>475978</th>\n",
       "      <td>0</td>\n",
       "      <td>2177756662</td>\n",
       "      <td>Mon Jun 15 06:39:05 PDT 2009</td>\n",
       "      <td>NO_QUERY</td>\n",
       "      <td>x__claireyy__x</td>\n",
       "      <td>Right, off to work  Only 5 hours to go until I...</td>\n",
       "      <td>right work 5 hour go im free xd</td>\n",
       "    </tr>\n",
       "    <tr>\n",
       "      <th>588988</th>\n",
       "      <td>0</td>\n",
       "      <td>2216838047</td>\n",
       "      <td>Wed Jun 17 20:02:12 PDT 2009</td>\n",
       "      <td>NO_QUERY</td>\n",
       "      <td>Balasi</td>\n",
       "      <td>I am craving for japanese food</td>\n",
       "      <td>craving japanese food</td>\n",
       "    </tr>\n",
       "    <tr>\n",
       "      <th>138859</th>\n",
       "      <td>0</td>\n",
       "      <td>1880666283</td>\n",
       "      <td>Fri May 22 02:03:31 PDT 2009</td>\n",
       "      <td>NO_QUERY</td>\n",
       "      <td>djrickdawson</td>\n",
       "      <td>Jean Michel Jarre concert tomorrow  gotta work...</td>\n",
       "      <td>jean michel jarre concert tomorrow got ta work...</td>\n",
       "    </tr>\n",
       "  </tbody>\n",
       "</table>\n",
       "</div>"
      ],
      "text/plain": [
       "        target         ids                          date      flag  \\\n",
       "212188       0  1974671194  Sat May 30 13:36:31 PDT 2009  NO_QUERY   \n",
       "299036       0  1997882236  Mon Jun 01 17:37:11 PDT 2009  NO_QUERY   \n",
       "475978       0  2177756662  Mon Jun 15 06:39:05 PDT 2009  NO_QUERY   \n",
       "588988       0  2216838047  Wed Jun 17 20:02:12 PDT 2009  NO_QUERY   \n",
       "138859       0  1880666283  Fri May 22 02:03:31 PDT 2009  NO_QUERY   \n",
       "\n",
       "                  user                                               text  \\\n",
       "212188         simba98  @xnausikaax oh no! where did u order from? tha...   \n",
       "299036          Seve76  A great hard training weekend is over.  a coup...   \n",
       "475978  x__claireyy__x  Right, off to work  Only 5 hours to go until I...   \n",
       "588988          Balasi                    I am craving for japanese food    \n",
       "138859    djrickdawson  Jean Michel Jarre concert tomorrow  gotta work...   \n",
       "\n",
       "                                           processed_text  \n",
       "212188       < MENTION > oh no ! u order ? thats horrible  \n",
       "299036  great hard training weekend couple day rest le...  \n",
       "475978                    right work 5 hour go im free xd  \n",
       "588988                              craving japanese food  \n",
       "138859  jean michel jarre concert tomorrow got ta work...  "
      ]
     },
     "execution_count": 11,
     "metadata": {},
     "output_type": "execute_result"
    }
   ],
   "source": [
    "preprocessed_data.head()"
   ]
  },
  {
   "cell_type": "markdown",
   "metadata": {},
   "source": [
    "## Division des données en ensembles d'entraînement et de test"
   ]
  },
  {
   "cell_type": "code",
   "execution_count": 12,
   "metadata": {},
   "outputs": [
    {
     "name": "stdout",
     "output_type": "stream",
     "text": [
      "Taille de l'ensemble d'entraînement: 80000 exemples\n",
      "Taille de l'ensemble de test: 20000 exemples\n"
     ]
    }
   ],
   "source": [
    "# Diviser les données en ensembles d'entraînement et de test\n",
    "from sklearn.model_selection import train_test_split\n",
    "\n",
    "X = preprocessed_data['processed_text']\n",
    "y = preprocessed_data['target']\n",
    "\n",
    "# Division train/test\n",
    "X_train, X_test, y_train, y_test = train_test_split(X, y, test_size=0.2, random_state=42, stratify=y)\n",
    "\n",
    "print(f\"Taille de l'ensemble d'entraînement: {X_train.shape[0]} exemples\")\n",
    "print(f\"Taille de l'ensemble de test: {X_test.shape[0]} exemples\")"
   ]
  },
  {
   "cell_type": "markdown",
   "metadata": {},
   "source": [
    "## Entraînement des modèles et tracking avec MLflow"
   ]
  },
  {
   "cell_type": "markdown",
   "metadata": {},
   "source": [
    "### Configuration de MLFlow"
   ]
  },
  {
   "cell_type": "code",
   "execution_count": 110,
   "metadata": {},
   "outputs": [
    {
     "name": "stdout",
     "output_type": "stream",
     "text": [
      "MLflow Tracking URI: https://zany-orbit-q59ppqxj6j34j4x-5001.app.github.dev/\n",
      "Identifiants AWS configurés\n"
     ]
    }
   ],
   "source": [
    "import mlflow\n",
    "from mlflow.models import infer_signature\n",
    "from mlflow import MlflowClient\n",
    "from dotenv import load_dotenv\n",
    "\n",
    "# Charger les variables d'environnement depuis le fichier .env\n",
    "load_dotenv()\n",
    "\n",
    "# Configuration de MLflow avec les variables d'environnement\n",
    "mlflow_tracking_uri = os.getenv(\"MLFLOW_TRACKING_URI\")\n",
    "aws_access_key_id = os.getenv(\"AWS_ACCESS_KEY_ID\")\n",
    "aws_secret_access_key = os.getenv(\"AWS_SECRET_ACCESS_KEY\")\n",
    "\n",
    "# Configuration explicite de MLflow\n",
    "mlflow.set_tracking_uri(mlflow_tracking_uri)\n",
    "print(f\"MLflow Tracking URI: {mlflow_tracking_uri}\")\n",
    "\n",
    "# Configuration explicite des identifiants AWS\n",
    "os.environ[\"AWS_ACCESS_KEY_ID\"] = aws_access_key_id\n",
    "os.environ[\"AWS_SECRET_ACCESS_KEY\"] = aws_secret_access_key\n",
    "print(\"Identifiants AWS configurés\")"
   ]
  },
  {
   "cell_type": "code",
   "execution_count": 111,
   "metadata": {},
   "outputs": [
    {
     "ename": "MlflowException",
     "evalue": "API request to endpoint /api/2.0/mlflow/experiments/get-by-name failed with error code 400 != 200. Response body: ''",
     "output_type": "error",
     "traceback": [
      "\u001b[0;31m---------------------------------------------------------------------------\u001b[0m",
      "\u001b[0;31mMlflowException\u001b[0m                           Traceback (most recent call last)",
      "Cell \u001b[0;32mIn[111], line 2\u001b[0m\n\u001b[1;32m      1\u001b[0m \u001b[38;5;66;03m# Créer l'expérience MLflow\u001b[39;00m\n\u001b[0;32m----> 2\u001b[0m \u001b[43mmlflow\u001b[49m\u001b[38;5;241;43m.\u001b[39;49m\u001b[43mset_experiment\u001b[49m\u001b[43m(\u001b[49m\u001b[38;5;124;43m\"\u001b[39;49m\u001b[38;5;124;43mOC Projet 7\u001b[39;49m\u001b[38;5;124;43m\"\u001b[39;49m\u001b[43m)\u001b[49m\n",
      "File \u001b[0;32m~/projects/openclassrooms/projets/oc-ai-engineer-p07-analyse-sentiments-deep-learning/.venv/lib/python3.10/site-packages/mlflow/tracking/fluent.py:157\u001b[0m, in \u001b[0;36mset_experiment\u001b[0;34m(experiment_name, experiment_id)\u001b[0m\n\u001b[1;32m    155\u001b[0m \u001b[38;5;28;01mwith\u001b[39;00m _experiment_lock:\n\u001b[1;32m    156\u001b[0m     \u001b[38;5;28;01mif\u001b[39;00m experiment_id \u001b[38;5;129;01mis\u001b[39;00m \u001b[38;5;28;01mNone\u001b[39;00m:\n\u001b[0;32m--> 157\u001b[0m         experiment \u001b[38;5;241m=\u001b[39m \u001b[43mclient\u001b[49m\u001b[38;5;241;43m.\u001b[39;49m\u001b[43mget_experiment_by_name\u001b[49m\u001b[43m(\u001b[49m\u001b[43mexperiment_name\u001b[49m\u001b[43m)\u001b[49m\n\u001b[1;32m    158\u001b[0m         \u001b[38;5;28;01mif\u001b[39;00m \u001b[38;5;129;01mnot\u001b[39;00m experiment:\n\u001b[1;32m    159\u001b[0m             \u001b[38;5;28;01mtry\u001b[39;00m:\n",
      "File \u001b[0;32m~/projects/openclassrooms/projets/oc-ai-engineer-p07-analyse-sentiments-deep-learning/.venv/lib/python3.10/site-packages/mlflow/tracking/client.py:1701\u001b[0m, in \u001b[0;36mMlflowClient.get_experiment_by_name\u001b[0;34m(self, name)\u001b[0m\n\u001b[1;32m   1669\u001b[0m \u001b[38;5;28;01mdef\u001b[39;00m\u001b[38;5;250m \u001b[39m\u001b[38;5;21mget_experiment_by_name\u001b[39m(\u001b[38;5;28mself\u001b[39m, name: \u001b[38;5;28mstr\u001b[39m) \u001b[38;5;241m-\u001b[39m\u001b[38;5;241m>\u001b[39m Optional[Experiment]:\n\u001b[1;32m   1670\u001b[0m \u001b[38;5;250m    \u001b[39m\u001b[38;5;124;03m\"\"\"Retrieve an experiment by experiment name from the backend store\u001b[39;00m\n\u001b[1;32m   1671\u001b[0m \n\u001b[1;32m   1672\u001b[0m \u001b[38;5;124;03m    Args:\u001b[39;00m\n\u001b[0;32m   (...)\u001b[0m\n\u001b[1;32m   1699\u001b[0m \u001b[38;5;124;03m        Lifecycle_stage: active\u001b[39;00m\n\u001b[1;32m   1700\u001b[0m \u001b[38;5;124;03m    \"\"\"\u001b[39;00m\n\u001b[0;32m-> 1701\u001b[0m     \u001b[38;5;28;01mreturn\u001b[39;00m \u001b[38;5;28;43mself\u001b[39;49m\u001b[38;5;241;43m.\u001b[39;49m\u001b[43m_tracking_client\u001b[49m\u001b[38;5;241;43m.\u001b[39;49m\u001b[43mget_experiment_by_name\u001b[49m\u001b[43m(\u001b[49m\u001b[43mname\u001b[49m\u001b[43m)\u001b[49m\n",
      "File \u001b[0;32m~/projects/openclassrooms/projets/oc-ai-engineer-p07-analyse-sentiments-deep-learning/.venv/lib/python3.10/site-packages/mlflow/tracking/_tracking_service/client.py:586\u001b[0m, in \u001b[0;36mTrackingServiceClient.get_experiment_by_name\u001b[0;34m(self, name)\u001b[0m\n\u001b[1;32m    578\u001b[0m \u001b[38;5;28;01mdef\u001b[39;00m\u001b[38;5;250m \u001b[39m\u001b[38;5;21mget_experiment_by_name\u001b[39m(\u001b[38;5;28mself\u001b[39m, name):\n\u001b[1;32m    579\u001b[0m \u001b[38;5;250m    \u001b[39m\u001b[38;5;124;03m\"\"\"\u001b[39;00m\n\u001b[1;32m    580\u001b[0m \u001b[38;5;124;03m    Args:\u001b[39;00m\n\u001b[1;32m    581\u001b[0m \u001b[38;5;124;03m        name: The experiment name.\u001b[39;00m\n\u001b[0;32m   (...)\u001b[0m\n\u001b[1;32m    584\u001b[0m \u001b[38;5;124;03m        :py:class:`mlflow.entities.Experiment`\u001b[39;00m\n\u001b[1;32m    585\u001b[0m \u001b[38;5;124;03m    \"\"\"\u001b[39;00m\n\u001b[0;32m--> 586\u001b[0m     \u001b[38;5;28;01mreturn\u001b[39;00m \u001b[38;5;28;43mself\u001b[39;49m\u001b[38;5;241;43m.\u001b[39;49m\u001b[43mstore\u001b[49m\u001b[38;5;241;43m.\u001b[39;49m\u001b[43mget_experiment_by_name\u001b[49m\u001b[43m(\u001b[49m\u001b[43mname\u001b[49m\u001b[43m)\u001b[49m\n",
      "File \u001b[0;32m~/projects/openclassrooms/projets/oc-ai-engineer-p07-analyse-sentiments-deep-learning/.venv/lib/python3.10/site-packages/mlflow/store/tracking/rest_store.py:641\u001b[0m, in \u001b[0;36mRestStore.get_experiment_by_name\u001b[0;34m(self, experiment_name)\u001b[0m\n\u001b[1;32m    639\u001b[0m \u001b[38;5;28;01mtry\u001b[39;00m:\n\u001b[1;32m    640\u001b[0m     req_body \u001b[38;5;241m=\u001b[39m message_to_json(GetExperimentByName(experiment_name\u001b[38;5;241m=\u001b[39mexperiment_name))\n\u001b[0;32m--> 641\u001b[0m     response_proto \u001b[38;5;241m=\u001b[39m \u001b[38;5;28;43mself\u001b[39;49m\u001b[38;5;241;43m.\u001b[39;49m\u001b[43m_call_endpoint\u001b[49m\u001b[43m(\u001b[49m\u001b[43mGetExperimentByName\u001b[49m\u001b[43m,\u001b[49m\u001b[43m \u001b[49m\u001b[43mreq_body\u001b[49m\u001b[43m)\u001b[49m\n\u001b[1;32m    642\u001b[0m     \u001b[38;5;28;01mreturn\u001b[39;00m Experiment\u001b[38;5;241m.\u001b[39mfrom_proto(response_proto\u001b[38;5;241m.\u001b[39mexperiment)\n\u001b[1;32m    643\u001b[0m \u001b[38;5;28;01mexcept\u001b[39;00m MlflowException \u001b[38;5;28;01mas\u001b[39;00m e:\n",
      "File \u001b[0;32m~/projects/openclassrooms/projets/oc-ai-engineer-p07-analyse-sentiments-deep-learning/.venv/lib/python3.10/site-packages/mlflow/store/tracking/rest_store.py:90\u001b[0m, in \u001b[0;36mRestStore._call_endpoint\u001b[0;34m(self, api, json_body, endpoint)\u001b[0m\n\u001b[1;32m     88\u001b[0m     endpoint, method \u001b[38;5;241m=\u001b[39m _METHOD_TO_INFO[api]\n\u001b[1;32m     89\u001b[0m response_proto \u001b[38;5;241m=\u001b[39m api\u001b[38;5;241m.\u001b[39mResponse()\n\u001b[0;32m---> 90\u001b[0m \u001b[38;5;28;01mreturn\u001b[39;00m \u001b[43mcall_endpoint\u001b[49m\u001b[43m(\u001b[49m\u001b[38;5;28;43mself\u001b[39;49m\u001b[38;5;241;43m.\u001b[39;49m\u001b[43mget_host_creds\u001b[49m\u001b[43m(\u001b[49m\u001b[43m)\u001b[49m\u001b[43m,\u001b[49m\u001b[43m \u001b[49m\u001b[43mendpoint\u001b[49m\u001b[43m,\u001b[49m\u001b[43m \u001b[49m\u001b[43mmethod\u001b[49m\u001b[43m,\u001b[49m\u001b[43m \u001b[49m\u001b[43mjson_body\u001b[49m\u001b[43m,\u001b[49m\u001b[43m \u001b[49m\u001b[43mresponse_proto\u001b[49m\u001b[43m)\u001b[49m\n",
      "File \u001b[0;32m~/projects/openclassrooms/projets/oc-ai-engineer-p07-analyse-sentiments-deep-learning/.venv/lib/python3.10/site-packages/mlflow/utils/rest_utils.py:392\u001b[0m, in \u001b[0;36mcall_endpoint\u001b[0;34m(host_creds, endpoint, method, json_body, response_proto, extra_headers)\u001b[0m\n\u001b[1;32m    389\u001b[0m     call_kwargs[\u001b[38;5;124m\"\u001b[39m\u001b[38;5;124mjson\u001b[39m\u001b[38;5;124m\"\u001b[39m] \u001b[38;5;241m=\u001b[39m json_body\n\u001b[1;32m    390\u001b[0m     response \u001b[38;5;241m=\u001b[39m http_request(\u001b[38;5;241m*\u001b[39m\u001b[38;5;241m*\u001b[39mcall_kwargs)\n\u001b[0;32m--> 392\u001b[0m response \u001b[38;5;241m=\u001b[39m \u001b[43mverify_rest_response\u001b[49m\u001b[43m(\u001b[49m\u001b[43mresponse\u001b[49m\u001b[43m,\u001b[49m\u001b[43m \u001b[49m\u001b[43mendpoint\u001b[49m\u001b[43m)\u001b[49m\n\u001b[1;32m    393\u001b[0m response_to_parse \u001b[38;5;241m=\u001b[39m response\u001b[38;5;241m.\u001b[39mtext\n\u001b[1;32m    394\u001b[0m js_dict \u001b[38;5;241m=\u001b[39m json\u001b[38;5;241m.\u001b[39mloads(response_to_parse)\n",
      "File \u001b[0;32m~/projects/openclassrooms/projets/oc-ai-engineer-p07-analyse-sentiments-deep-learning/.venv/lib/python3.10/site-packages/mlflow/utils/rest_utils.py:255\u001b[0m, in \u001b[0;36mverify_rest_response\u001b[0;34m(response, endpoint)\u001b[0m\n\u001b[1;32m    250\u001b[0m     \u001b[38;5;28;01melse\u001b[39;00m:\n\u001b[1;32m    251\u001b[0m         base_msg \u001b[38;5;241m=\u001b[39m (\n\u001b[1;32m    252\u001b[0m             \u001b[38;5;124mf\u001b[39m\u001b[38;5;124m\"\u001b[39m\u001b[38;5;124mAPI request to endpoint \u001b[39m\u001b[38;5;132;01m{\u001b[39;00mendpoint\u001b[38;5;132;01m}\u001b[39;00m\u001b[38;5;124m \u001b[39m\u001b[38;5;124m\"\u001b[39m\n\u001b[1;32m    253\u001b[0m             \u001b[38;5;124mf\u001b[39m\u001b[38;5;124m\"\u001b[39m\u001b[38;5;124mfailed with error code \u001b[39m\u001b[38;5;132;01m{\u001b[39;00mresponse\u001b[38;5;241m.\u001b[39mstatus_code\u001b[38;5;132;01m}\u001b[39;00m\u001b[38;5;124m != 200\u001b[39m\u001b[38;5;124m\"\u001b[39m\n\u001b[1;32m    254\u001b[0m         )\n\u001b[0;32m--> 255\u001b[0m         \u001b[38;5;28;01mraise\u001b[39;00m MlflowException(\n\u001b[1;32m    256\u001b[0m             \u001b[38;5;124mf\u001b[39m\u001b[38;5;124m\"\u001b[39m\u001b[38;5;132;01m{\u001b[39;00mbase_msg\u001b[38;5;132;01m}\u001b[39;00m\u001b[38;5;124m. Response body: \u001b[39m\u001b[38;5;124m'\u001b[39m\u001b[38;5;132;01m{\u001b[39;00mresponse\u001b[38;5;241m.\u001b[39mtext\u001b[38;5;132;01m}\u001b[39;00m\u001b[38;5;124m'\u001b[39m\u001b[38;5;124m\"\u001b[39m,\n\u001b[1;32m    257\u001b[0m             error_code\u001b[38;5;241m=\u001b[39mget_error_code(response\u001b[38;5;241m.\u001b[39mstatus_code),\n\u001b[1;32m    258\u001b[0m         )\n\u001b[1;32m    260\u001b[0m \u001b[38;5;66;03m# Skip validation for endpoints (e.g. DBFS file-download API) which may return a non-JSON\u001b[39;00m\n\u001b[1;32m    261\u001b[0m \u001b[38;5;66;03m# response\u001b[39;00m\n\u001b[1;32m    262\u001b[0m \u001b[38;5;28;01mif\u001b[39;00m endpoint\u001b[38;5;241m.\u001b[39mstartswith(_REST_API_PATH_PREFIX) \u001b[38;5;129;01mand\u001b[39;00m \u001b[38;5;129;01mnot\u001b[39;00m _can_parse_as_json_object(response\u001b[38;5;241m.\u001b[39mtext):\n",
      "\u001b[0;31mMlflowException\u001b[0m: API request to endpoint /api/2.0/mlflow/experiments/get-by-name failed with error code 400 != 200. Response body: ''"
     ]
    }
   ],
   "source": [
    "# Créer l'expérience MLflow\n",
    "mlflow.set_experiment(\"OC Projet 7\")"
   ]
  },
  {
   "cell_type": "markdown",
   "metadata": {},
   "source": [
    "## Définition des fonctions d'évaluation pour MLFlow"
   ]
  },
  {
   "cell_type": "code",
   "execution_count": null,
   "metadata": {},
   "outputs": [],
   "source": [
    "# def evaluate_model(model, X_test, y_test, model_name):\n",
    "#     \"\"\"Évalue le modèle et retourne les métriques de performance\"\"\"\n",
    "#     y_pred_proba = model.predict(X_test)\n",
    "#     y_pred = (y_pred_proba > 0.5).astype(int)\n",
    "    \n",
    "#     # Calculer les métriques\n",
    "#     accuracy = accuracy_score(y_test, y_pred)\n",
    "#     precision = precision_score(y_test, y_pred)\n",
    "#     recall = recall_score(y_test, y_pred)\n",
    "#     f1 = f1_score(y_test, y_pred)\n",
    "#     f2 = fbeta_score(y_test, y_pred, beta=2.0)  # Metric F2 qui met l'accent sur le recall\n",
    "#     roc_auc = roc_auc_score(y_test, y_pred_proba)\n",
    "    \n",
    "#     # Afficher les résultats\n",
    "#     print(f\"Résultats pour {model_name}:\")\n",
    "#     print(f\"Accuracy: {accuracy:.4f}\")\n",
    "#     print(f\"Precision: {precision:.4f}\")\n",
    "#     print(f\"Recall: {recall:.4f}\")\n",
    "#     print(f\"F1 Score: {f1:.4f}\")\n",
    "#     print(f\"F2 Score: {f2:.4f}\")\n",
    "#     print(f\"ROC AUC: {roc_auc:.4f}\")\n",
    "    \n",
    "#     # Retourner les métriques dans un dictionnaire\n",
    "#     metrics = {\n",
    "#         \"accuracy\": accuracy,\n",
    "#         \"precision\": precision,\n",
    "#         \"recall\": recall,\n",
    "#         \"f1\": f1,\n",
    "#         \"f2\": f2,\n",
    "#         \"roc_auc\": roc_auc\n",
    "#     }\n",
    "    \n",
    "#     return metrics, y_pred, y_pred_proba\n",
    "\n",
    "# def log_confusion_matrix(y_test, y_pred, model_name):\n",
    "#     \"\"\"Crée et sauvegarde une visualisation de la matrice de confusion\"\"\"\n",
    "#     cm = confusion_matrix(y_test, y_pred)\n",
    "    \n",
    "#     # Tracer la matrice de confusion\n",
    "#     plt.figure(figsize=(10, 8))\n",
    "#     plt.imshow(cm, interpolation='nearest', cmap=plt.cm.Blues)\n",
    "#     plt.title(f'Matrice de confusion - {model_name}')\n",
    "#     plt.colorbar()\n",
    "    \n",
    "#     # Étiquettes\n",
    "#     classes = ['Négatif', 'Positif']\n",
    "#     tick_marks = range(len(classes))\n",
    "#     plt.xticks(tick_marks, classes, rotation=45)\n",
    "#     plt.yticks(tick_marks, classes)\n",
    "    \n",
    "#     # Valeurs dans les cellules\n",
    "#     thresh = cm.max() / 2.\n",
    "#     for i in range(cm.shape[0]):\n",
    "#         for j in range(cm.shape[1]):\n",
    "#             plt.text(j, i, format(cm[i, j], 'd'),\n",
    "#                     horizontalalignment=\"center\",\n",
    "#                     color=\"white\" if cm[i, j] > thresh else \"black\")\n",
    "    \n",
    "#     plt.tight_layout()\n",
    "#     plt.ylabel('Valeur réelle')\n",
    "#     plt.xlabel('Prédiction')\n",
    "    \n",
    "#     # Sauvegarder l'image\n",
    "#     confusion_matrix_path = f\"content/advanced-model/{model_name}_confusion_matrix.png\"\n",
    "#     plt.savefig(confusion_matrix_path)\n",
    "#     plt.close()\n",
    "    \n",
    "#     return confusion_matrix_path"
   ]
  },
  {
   "cell_type": "markdown",
   "metadata": {},
   "source": [
    "## Préparation des données pour les modèles de deep learning\n",
    "\n",
    "D'abord, nous devons tokeniser nos textes et les préparer pour l'entraînement des modèles de deep learning."
   ]
  },
  {
   "cell_type": "code",
   "execution_count": null,
   "metadata": {},
   "outputs": [
    {
     "name": "stdout",
     "output_type": "stream",
     "text": [
      "Taille du vocabulaire: 54592\n",
      "Forme des données d'entraînement: (80000, 50)\n",
      "Forme des données de test: (20000, 50)\n"
     ]
    }
   ],
   "source": [
    "import numpy as np\n",
    "import tensorflow as tf\n",
    "from tensorflow import keras\n",
    "from tensorflow.keras.preprocessing.text import Tokenizer\n",
    "from tensorflow.keras.preprocessing.sequence import pad_sequences\n",
    "import os\n",
    "import matplotlib.pyplot as plt\n",
    "import mlflow\n",
    "import mlflow.keras\n",
    "from sklearn.metrics import accuracy_score, precision_score, recall_score, f1_score, roc_auc_score, confusion_matrix, classification_report, fbeta_score\n",
    "\n",
    "# Définir la longueur maximale des séquences (nombre de mots par tweet)\n",
    "MAX_SEQUENCE_LENGTH = 50\n",
    "\n",
    "# Définir la taille du vocabulaire (nombre de mots uniques à considérer)\n",
    "MAX_VOCAB_SIZE = 20000\n",
    "\n",
    "# Tokenisation des textes\n",
    "tokenizer = Tokenizer(num_words=MAX_VOCAB_SIZE, oov_token='<OOV>')\n",
    "tokenizer.fit_on_texts(X_train)\n",
    "\n",
    "# Convertir les textes en séquences d'indices\n",
    "X_train_seq = tokenizer.texts_to_sequences(X_train)\n",
    "X_test_seq = tokenizer.texts_to_sequences(X_test)\n",
    "\n",
    "# Padding des séquences pour qu'elles aient toutes la même longueur\n",
    "X_train_pad = pad_sequences(X_train_seq, maxlen=MAX_SEQUENCE_LENGTH, padding='post', truncating='post')\n",
    "X_test_pad = pad_sequences(X_test_seq, maxlen=MAX_SEQUENCE_LENGTH, padding='post', truncating='post')\n",
    "\n",
    "# Créer le dossier pour sauvegarder les modèles\n",
    "os.makedirs(\"content/advanced-model\", exist_ok=True)\n",
    "os.makedirs(\"content/advanced-model/best\", exist_ok=True)\n",
    "\n",
    "# Sauvegarder le tokenizer pour une utilisation ultérieure\n",
    "import pickle\n",
    "with open('content/advanced-model/tokenizer.pickle', 'wb') as handle:\n",
    "    pickle.dump(tokenizer, handle, protocol=pickle.HIGHEST_PROTOCOL)\n",
    "\n",
    "print(f\"Taille du vocabulaire: {len(tokenizer.word_index) + 1}\")\n",
    "print(f\"Forme des données d'entraînement: {X_train_pad.shape}\")\n",
    "print(f\"Forme des données de test: {X_test_pad.shape}\")"
   ]
  },
  {
   "cell_type": "markdown",
   "metadata": {},
   "source": [
    "## Fonctions d'évaluation et de logging pour MLflow\n",
    "\n",
    "Créons des fonctions pour évaluer nos modèles et enregistrer les résultats avec MLflow:"
   ]
  },
  {
   "cell_type": "code",
   "execution_count": 118,
   "metadata": {},
   "outputs": [],
   "source": [
    "def evaluate_model(model, X_test, y_test, class_names=['Négatif', 'Positif']):\n",
    "    \"\"\"\n",
    "    Évalue le modèle sur l'ensemble de test et retourne les métriques de performance.\n",
    "    \"\"\"\n",
    "    # Prédictions du modèle\n",
    "    y_pred_proba = model.predict(X_test)\n",
    "    y_pred = (y_pred_proba > 0.5).astype(int)\n",
    "    \n",
    "    # Convertir les prédictions de format numpy à format list pour éviter les erreurs de sérialisation\n",
    "    if isinstance(y_pred, np.ndarray):\n",
    "        y_pred = y_pred.flatten().tolist()\n",
    "    if isinstance(y_pred_proba, np.ndarray):\n",
    "        y_pred_proba = y_pred_proba.flatten().tolist()\n",
    "    \n",
    "    # Calculer les métriques\n",
    "    accuracy = accuracy_score(y_test, y_pred)\n",
    "    precision = precision_score(y_test, y_pred)\n",
    "    recall = recall_score(y_test, y_pred)\n",
    "    f1 = f1_score(y_test, y_pred)\n",
    "    f2 = fbeta_score(y_test, y_pred, beta=2)\n",
    "    roc_auc = roc_auc_score(y_test, y_pred_proba)\n",
    "    \n",
    "    # Matrice de confusion\n",
    "    cm = confusion_matrix(y_test, y_pred)\n",
    "    \n",
    "    # Rapport de classification\n",
    "    report = classification_report(y_test, y_pred, target_names=class_names)\n",
    "    \n",
    "    metrics = {\n",
    "        'accuracy': accuracy,\n",
    "        'precision': precision,\n",
    "        'recall': recall,\n",
    "        'f1_score': f1,\n",
    "        'f2_score': f2,\n",
    "        'roc_auc': roc_auc\n",
    "    }\n",
    "    \n",
    "    return metrics, cm, report, y_pred, y_pred_proba\n",
    "\n",
    "def plot_confusion_matrix(cm, class_names, title='Matrice de confusion'):\n",
    "    \"\"\"\n",
    "    Crée une figure de matrice de confusion.\n",
    "    \"\"\"\n",
    "    fig, ax = plt.subplots(figsize=(8, 6))\n",
    "    im = ax.imshow(cm, interpolation='nearest', cmap=plt.cm.Blues)\n",
    "    ax.figure.colorbar(im, ax=ax)\n",
    "    ax.set(xticks=np.arange(cm.shape[1]),\n",
    "           yticks=np.arange(cm.shape[0]),\n",
    "           xticklabels=class_names,\n",
    "           yticklabels=class_names,\n",
    "           title=title,\n",
    "           ylabel='Vraie étiquette',\n",
    "           xlabel='Étiquette prédite')\n",
    "    \n",
    "    # Pivoter les labels de l'axe des x\n",
    "    plt.setp(ax.get_xticklabels(), rotation=45, ha=\"right\", rotation_mode=\"anchor\")\n",
    "    \n",
    "    # Annoter la matrice de confusion\n",
    "    thresh = cm.max() / 2.\n",
    "    for i in range(cm.shape[0]):\n",
    "        for j in range(cm.shape[1]):\n",
    "            ax.text(j, i, format(cm[i, j], 'd'),\n",
    "                    ha=\"center\", va=\"center\",\n",
    "                    color=\"white\" if cm[i, j] > thresh else \"black\")\n",
    "    \n",
    "    plt.tight_layout()\n",
    "    return fig\n",
    "\n",
    "def log_model_to_mlflow(model, model_name, vectorizer_name, metrics, cm, report, X_test, y_test, params=None):\n",
    "    \"\"\"\n",
    "    Enregistre le modèle et ses performances dans MLflow.\n",
    "    \"\"\"\n",
    "    class_names = ['Négatif', 'Positif']\n",
    "    \n",
    "    with mlflow.start_run(run_name=f\"Modele_Avance_{model_name}_{vectorizer_name}\"):\n",
    "        # Enregistrer les paramètres du modèle\n",
    "        if params:\n",
    "            for key, value in params.items():\n",
    "                mlflow.log_param(key, value)\n",
    "        \n",
    "        # Enregistrer les métriques de performance\n",
    "        for key, value in metrics.items():\n",
    "            mlflow.log_metric(key, value)\n",
    "        \n",
    "        # Tracer et enregistrer la matrice de confusion\n",
    "        fig = plot_confusion_matrix(cm, class_names)\n",
    "        mlflow.log_figure(fig, f\"confusion_matrix_{model_name}_{vectorizer_name}.png\")\n",
    "        plt.close(fig)\n",
    "        \n",
    "        # Enregistrer le rapport de classification\n",
    "        with open(f\"content/advanced-model/classification_report_{model_name}_{vectorizer_name}.txt\", \"w\") as f:\n",
    "            f.write(report)\n",
    "        mlflow.log_artifact(f\"content/advanced-model/classification_report_{model_name}_{vectorizer_name}.txt\")\n",
    "        \n",
    "        # Enregistrer le modèle\n",
    "        signature = infer_signature(X_test, y_test)\n",
    "        mlflow.keras.log_model(model, \n",
    "                              f\"model_{model_name}_{vectorizer_name}\", \n",
    "                              signature=signature)\n",
    "        \n",
    "        # Sauvegarder le modèle localement\n",
    "        model.save(f\"content/advanced-model/model_{model_name}_{vectorizer_name}.h5\")\n",
    "        \n",
    "        return mlflow.active_run().info.run_id\n",
    "\n",
    "def plot_training_history(history, model_name, vectorizer_name, run_id=None):\n",
    "    \"\"\"\n",
    "    Trace l'historique d'entraînement du modèle et l'enregistre dans la même exécution MLflow.\n",
    "    \n",
    "    Args:\n",
    "        history: Historique d'entraînement du modèle\n",
    "        model_name: Nom du modèle\n",
    "        vectorizer_name: Nom du vectoriseur\n",
    "        run_id: ID de l'exécution MLflow existante\n",
    "    \n",
    "    Returns:\n",
    "        fig: Figure matplotlib créée\n",
    "    \"\"\"\n",
    "    fig, (ax1, ax2) = plt.subplots(1, 2, figsize=(12, 5))\n",
    "    \n",
    "    # Tracer l'accuracy\n",
    "    ax1.plot(history.history['accuracy'], label='train')\n",
    "    ax1.plot(history.history['val_accuracy'], label='validation')\n",
    "    ax1.set_title(f'Accuracy - {model_name} avec {vectorizer_name}')\n",
    "    ax1.set_xlabel('Epoch')\n",
    "    ax1.set_ylabel('Accuracy')\n",
    "    ax1.legend()\n",
    "    \n",
    "    # Tracer la loss\n",
    "    ax2.plot(history.history['loss'], label='train')\n",
    "    ax2.plot(history.history['val_loss'], label='validation')\n",
    "    ax2.set_title(f'Loss - {model_name} avec {vectorizer_name}')\n",
    "    ax2.set_xlabel('Epoch')\n",
    "    ax2.set_ylabel('Loss')\n",
    "    ax2.legend()\n",
    "    \n",
    "    plt.tight_layout()\n",
    "    \n",
    "    # Sauvegarder la figure localement\n",
    "    filename = f'content/advanced-model/training_history_{model_name}_{vectorizer_name}.png'\n",
    "    plt.savefig(filename)\n",
    "    \n",
    "    # Enregistrer dans MLflow en utilisant l'exécution existante\n",
    "    if run_id:\n",
    "        with mlflow.start_run(run_id=run_id):\n",
    "            mlflow.log_figure(fig, f\"training_history_{model_name}_{vectorizer_name}.png\")\n",
    "    else:\n",
    "        # Fallback si aucun run_id n'est fourni\n",
    "        with mlflow.start_run(run_name=f\"ModeleAvance_{model_name}_{vectorizer_name}\"):\n",
    "            mlflow.log_figure(fig, f\"training_history_{model_name}_{vectorizer_name}.png\")\n",
    "    "
   ]
  },
  {
   "cell_type": "markdown",
   "metadata": {},
   "source": [
    "## Chargement et préparation des embeddings pré-entraînés"
   ]
  },
  {
   "cell_type": "markdown",
   "metadata": {},
   "source": [
    "### Glove"
   ]
  },
  {
   "cell_type": "code",
   "execution_count": 20,
   "metadata": {},
   "outputs": [
    {
     "name": "stdout",
     "output_type": "stream",
     "text": [
      "Le dossier content/pretrained-embeddings/glove.6B existe déjà. Téléchargement ignoré.\n"
     ]
    }
   ],
   "source": [
    "import os\n",
    "import requests\n",
    "from tqdm import tqdm\n",
    "from zipfile import ZipFile\n",
    "\n",
    "# Télécharger et préparer les embeddings GloVe\n",
    "def download_glove_embeddings(url=\"https://nlp.stanford.edu/data/glove.6B.zip\", \n",
    "                             output_dir=\"content/pretrained-embeddings/glove.6B\"):\n",
    "    \"\"\"\n",
    "    Télécharge et extrait les embeddings GloVe si nécessaire.\n",
    "    Inclut une barre de progression et vérifie si les fichiers existent déjà.\n",
    "    \"\"\"\n",
    "    # Check if directory already exists\n",
    "    if os.path.exists(output_dir) and os.listdir(output_dir):\n",
    "        print(f\"Le dossier {output_dir} existe déjà. Téléchargement ignoré.\")\n",
    "        return\n",
    "    \n",
    "    # Create directory if it doesn't exist\n",
    "    os.makedirs(output_dir, exist_ok=True)\n",
    "    \n",
    "    # Temporary zip file path\n",
    "    zip_path = \"glove.6B.zip\"\n",
    "    \n",
    "    # Download the file with progress bar\n",
    "    print(\"Téléchargement du fichier...\")\n",
    "    response = requests.get(url, stream=True)\n",
    "    total_size = int(response.headers.get('content-length', 0))\n",
    "    \n",
    "    with open(zip_path, 'wb') as f, tqdm(\n",
    "            desc=\"Téléchargement\",\n",
    "            total=total_size,\n",
    "            unit='B',\n",
    "            unit_scale=True,\n",
    "            unit_divisor=1024,\n",
    "        ) as bar:\n",
    "        for data in response.iter_content(chunk_size=1024):\n",
    "            size = f.write(data)\n",
    "            bar.update(size)\n",
    "    \n",
    "    # Extract with progress bar\n",
    "    print(\"Extraction des fichiers...\")\n",
    "    with ZipFile(zip_path, 'r') as zip_ref:\n",
    "        for file in tqdm(zip_ref.namelist(), desc=\"Extraction\"):\n",
    "            zip_ref.extract(file, output_dir)\n",
    "    \n",
    "    # Remove the zip file\n",
    "    os.remove(zip_path)\n",
    "    print(\"Terminé!\")\n",
    "\n",
    "# Exécuter la fonction\n",
    "download_glove_embeddings()"
   ]
  },
  {
   "cell_type": "code",
   "execution_count": 21,
   "metadata": {},
   "outputs": [],
   "source": [
    "def load_glove_embeddings(embedding_dim=100):\n",
    "    \"\"\"\n",
    "    Charge les embeddings GloVe pré-entraînés.\n",
    "    \"\"\"\n",
    "    print(f\"Chargement des embeddings GloVe {embedding_dim}d...\")\n",
    "    embeddings_index = {}\n",
    "    \n",
    "    with open(f'content/pretrained-embeddings/glove.6B/glove.6B.{embedding_dim}d.txt', encoding='utf-8') as f:\n",
    "        for line in f:\n",
    "            values = line.rstrip().split(' ')\n",
    "            word = values[0]\n",
    "            coefs = np.asarray(values[1:], dtype='float32')\n",
    "            embeddings_index[word] = coefs\n",
    "    \n",
    "    print(f\"Trouvé {len(embeddings_index)} vecteurs d'embeddings GloVe.\")\n",
    "    return embeddings_index"
   ]
  },
  {
   "cell_type": "markdown",
   "metadata": {},
   "source": [
    "### FastText"
   ]
  },
  {
   "cell_type": "code",
   "execution_count": 22,
   "metadata": {},
   "outputs": [
    {
     "name": "stdout",
     "output_type": "stream",
     "text": [
      "Le dossier content/pretrained-embeddings/fasttext existe déjà. Téléchargement ignoré.\n"
     ]
    }
   ],
   "source": [
    "# Télécharger et préparer les embeddings FastText\n",
    "def download_fasttext_embeddings(url=\"https://dl.fbaipublicfiles.com/fasttext/vectors-english/wiki-news-300d-1M.vec.zip\", \n",
    "                                output_dir=\"content/pretrained-embeddings/fasttext\"):\n",
    "    \"\"\"\n",
    "    Télécharge et extrait les embeddings FastText si nécessaire.\n",
    "    Inclut une barre de progression et vérifie si les fichiers existent déjà.\n",
    "    \"\"\"\n",
    "    # Check if directory already exists\n",
    "    if os.path.exists(output_dir) and os.listdir(output_dir):\n",
    "        print(f\"Le dossier {output_dir} existe déjà. Téléchargement ignoré.\")\n",
    "        return\n",
    "    \n",
    "    # Create directory if it doesn't exist\n",
    "    os.makedirs(output_dir, exist_ok=True)\n",
    "    \n",
    "    # Temporary zip file path\n",
    "    zip_path = \"wiki-news-300d-1M.vec.zip\"\n",
    "    \n",
    "    # Download the file with progress bar\n",
    "    print(\"Téléchargement du fichier...\")\n",
    "    response = requests.get(url, stream=True)\n",
    "    total_size = int(response.headers.get('content-length', 0))\n",
    "    \n",
    "    with open(zip_path, 'wb') as f, tqdm(\n",
    "            desc=\"Téléchargement\",\n",
    "            total=total_size,\n",
    "            unit='B',\n",
    "            unit_scale=True,\n",
    "            unit_divisor=1024,\n",
    "        ) as bar:\n",
    "        for data in response.iter_content(chunk_size=1024):\n",
    "            size = f.write(data)\n",
    "            bar.update(size)\n",
    "    \n",
    "    # Extract with progress bar\n",
    "    print(\"Extraction des fichiers...\")\n",
    "    with ZipFile(zip_path, 'r') as zip_ref:\n",
    "        for file in tqdm(zip_ref.namelist(), desc=\"Extraction\"):\n",
    "            zip_ref.extract(file, output_dir)\n",
    "    \n",
    "    # Remove the zip file\n",
    "    os.remove(zip_path)\n",
    "    print(\"Terminé!\")\n",
    "\n",
    "# Exécuter la fonction\n",
    "download_fasttext_embeddings()"
   ]
  },
  {
   "cell_type": "code",
   "execution_count": 23,
   "metadata": {},
   "outputs": [],
   "source": [
    "def load_fasttext_embeddings():\n",
    "    \"\"\"\n",
    "    Charge les embeddings FastText pré-entraînés.\n",
    "    \"\"\"\n",
    "    print(\"Chargement des embeddings FastText...\")\n",
    "    embeddings_index = {}\n",
    "    \n",
    "    with open('content/pretrained-embeddings/fasttext/wiki-news-300d-1M.vec', encoding='utf-8') as f:\n",
    "        # Ignorer la première ligne avec les métadonnées\n",
    "        next(f)\n",
    "        for line in f:\n",
    "            values = line.rstrip().split(' ')\n",
    "            word = values[0]\n",
    "            coefs = np.asarray(values[1:], dtype='float32')\n",
    "            embeddings_index[word] = coefs\n",
    "            \n",
    "            # Limiter le nombre de vecteurs chargés pour économiser la mémoire\n",
    "            if len(embeddings_index) >= 500000:\n",
    "                break\n",
    "    \n",
    "    print(f\"Trouvé {len(embeddings_index)} vecteurs d'embeddings FastText.\")\n",
    "    return embeddings_index"
   ]
  },
  {
   "cell_type": "markdown",
   "metadata": {},
   "source": [
    "### Word2vec"
   ]
  },
  {
   "cell_type": "code",
   "execution_count": 24,
   "metadata": {},
   "outputs": [
    {
     "name": "stdout",
     "output_type": "stream",
     "text": [
      "Word2Vec model already exists at content/pretrained-embeddings/word2vec/GoogleNews-vectors-negative300.bin\n",
      "Word2Vec model is available at: content/pretrained-embeddings/word2vec/GoogleNews-vectors-negative300.bin\n"
     ]
    }
   ],
   "source": [
    "def download_word2vec():\n",
    "    \"\"\"\n",
    "    Downloads the pre-trained Word2Vec embeddings.\n",
    "    Creates the necessary directories, downloads the file, extracts it, and cleans up unneeded files.\n",
    "    \n",
    "    Returns:\n",
    "        str: Path to the extracted Word2Vec model file\n",
    "    \"\"\"\n",
    "    import os\n",
    "    import gzip\n",
    "    import shutil\n",
    "    from urllib.request import urlretrieve\n",
    "    import time\n",
    "    import zipfile\n",
    "    \n",
    "    # Create necessary directories\n",
    "    content_dir = 'content/pretrained-embeddings'\n",
    "    word2vec_dir = os.path.join(content_dir, 'word2vec')\n",
    "    \n",
    "    os.makedirs(word2vec_dir, exist_ok=True)\n",
    "    \n",
    "    # Define file paths\n",
    "    model_file = os.path.join(word2vec_dir, 'GoogleNews-vectors-negative300.bin')\n",
    "    zip_file = os.path.join(word2vec_dir, 'GoogleNews-vectors-negative300.bin.zip')\n",
    "    \n",
    "    # Skip download if file already exists\n",
    "    if os.path.exists(model_file):\n",
    "        print(f\"Word2Vec model already exists at {model_file}\")\n",
    "        return model_file\n",
    "    \n",
    "    # URL for the pre-trained Word2Vec embeddings\n",
    "    # Using huggingface repository as a reliable source\n",
    "    url = 'https://huggingface.co/fse/word2vec-google-news-300/resolve/main/GoogleNews-vectors-negative300.bin.gz'\n",
    "    \n",
    "    try:\n",
    "        # Download the file with progress reporting\n",
    "        print(f\"Downloading Word2Vec embeddings from {url}...\")\n",
    "        print(\"This may take a while as the file is ~1.5GB\")\n",
    "        \n",
    "        start_time = time.time()\n",
    "        \n",
    "        def progress_callback(count, block_size, total_size):\n",
    "            elapsed_time = time.time() - start_time\n",
    "            downloaded = count * block_size / (1024 * 1024)  # MB\n",
    "            total = total_size / (1024 * 1024) if total_size > 0 else 0  # MB\n",
    "            percent = min(100, count * block_size * 100 / total_size) if total_size > 0 else 0\n",
    "            speed = downloaded / elapsed_time if elapsed_time > 0 else 0\n",
    "            \n",
    "            print(f\"\\rDownloaded: {downloaded:.1f}MB / {total:.1f}MB ({percent:.1f}%) - {speed:.1f}MB/s\", \n",
    "                  end='', flush=True)\n",
    "        \n",
    "        gz_file = os.path.join(word2vec_dir, 'GoogleNews-vectors-negative300.bin.gz')\n",
    "        urlretrieve(url, gz_file, progress_callback)\n",
    "        print(\"\\nDownload complete!\")\n",
    "        \n",
    "        # Extract the gzip file\n",
    "        print(f\"Extracting {gz_file}...\")\n",
    "        with gzip.open(gz_file, 'rb') as f_in:\n",
    "            with open(model_file, 'wb') as f_out:\n",
    "                shutil.copyfileobj(f_in, f_out)\n",
    "        print(\"Extraction complete!\")\n",
    "        \n",
    "        # Delete the gzip file to save space\n",
    "        os.remove(gz_file)\n",
    "        print(f\"Deleted temporary file: {gz_file}\")\n",
    "        \n",
    "        return model_file\n",
    "        \n",
    "    except Exception as e:\n",
    "        print(f\"Error downloading or extracting Word2Vec embeddings: {str(e)}\")\n",
    "        print(\"\\nTrying alternative download source...\")\n",
    "        \n",
    "        # Alternative URL (Google Drive mirror)\n",
    "        try:\n",
    "            # Install gdown if not available\n",
    "            import subprocess\n",
    "            import sys\n",
    "            \n",
    "            def install_gdown():\n",
    "                subprocess.check_call([sys.executable, \"-m\", \"pip\", \"install\", \"gdown\"])\n",
    "            \n",
    "            try:\n",
    "                import gdown\n",
    "            except ImportError:\n",
    "                print(\"Installing gdown package for Google Drive downloads...\")\n",
    "                install_gdown()\n",
    "                import gdown\n",
    "            \n",
    "            # Google Drive file ID for Word2Vec\n",
    "            file_id = \"0B7XkCwpI5KDYNlNUTTlSS21pQmM\"\n",
    "            \n",
    "            print(f\"Downloading Word2Vec embeddings from Google Drive (ID: {file_id})...\")\n",
    "            output = gz_file\n",
    "            gdown.download(id=file_id, output=output, quiet=False)\n",
    "            \n",
    "            # Extract the gzip file\n",
    "            print(f\"Extracting {gz_file}...\")\n",
    "            with gzip.open(gz_file, 'rb') as f_in:\n",
    "                with open(model_file, 'wb') as f_out:\n",
    "                    shutil.copyfileobj(f_in, f_out)\n",
    "            print(\"Extraction complete!\")\n",
    "            \n",
    "            # Delete the gzip file to save space\n",
    "            os.remove(gz_file)\n",
    "            print(f\"Deleted temporary file: {gz_file}\")\n",
    "            \n",
    "            return model_file\n",
    "            \n",
    "        except Exception as alt_error:\n",
    "            print(f\"Error with alternative download: {str(alt_error)}\")\n",
    "            \n",
    "            # Final fallback: direct user to manual download\n",
    "            print(\"\\nAutomatic download failed. Please follow these manual steps:\")\n",
    "            print(\"1. Download the Word2Vec embeddings from: https://drive.google.com/file/d/0B7XkCwpI5KDYNlNUTTlSS21pQmM/view?usp=sharing\")\n",
    "            print(\"2. Extract the downloaded file\")\n",
    "            print(f\"3. Place the 'GoogleNews-vectors-negative300.bin' file in the '{word2vec_dir}' directory\")\n",
    "            \n",
    "            # Clean up any partial downloads\n",
    "            if os.path.exists(gz_file):\n",
    "                os.remove(gz_file)\n",
    "            if os.path.exists(model_file) and os.path.getsize(model_file) < 1000000:  # If file exists but is too small\n",
    "                os.remove(model_file)\n",
    "            \n",
    "            raise Exception(\"Failed to download Word2Vec embeddings automatically. Please download manually.\")\n",
    "\n",
    "# Example usage:\n",
    "model_path = download_word2vec()\n",
    "print(f\"Word2Vec model is available at: {model_path}\")"
   ]
  },
  {
   "cell_type": "code",
   "execution_count": 25,
   "metadata": {},
   "outputs": [],
   "source": [
    "from gensim.models import KeyedVectors\n",
    "\n",
    "def load_word2vec_embeddings():\n",
    "    \"\"\"\n",
    "    Charge les embeddings Word2Vec pré-entraînés.\n",
    "    \"\"\"\n",
    "    print(\"Chargement des embeddings Word2Vec...\")\n",
    "    \n",
    "    # Charger le modèle Word2Vec\n",
    "    word2vec_model = KeyedVectors.load_word2vec_format('content/pretrained-embeddings/word2vec/GoogleNews-vectors-negative300.bin', binary=True, limit=500000)\n",
    "    \n",
    "    # Convertir en dictionnaire pour une utilisation plus facile\n",
    "    embeddings_index = {}\n",
    "    for word in word2vec_model.key_to_index:\n",
    "        embeddings_index[word] = word2vec_model[word]\n",
    "    \n",
    "    print(f\"Trouvé {len(embeddings_index)} vecteurs d'embeddings Word2Vec.\")\n",
    "    return embeddings_index"
   ]
  },
  {
   "cell_type": "markdown",
   "metadata": {},
   "source": [
    "## Création des matrices d'embedding à partir des embeddings pré-entraînés"
   ]
  },
  {
   "cell_type": "code",
   "execution_count": null,
   "metadata": {},
   "outputs": [],
   "source": [
    "def create_embedding_matrix(word_index, embeddings_index, embedding_dim):\n",
    "    \"\"\"\n",
    "    Crée une matrice d'embedding à partir des embeddings pré-entraînés.\n",
    "    Affiche une barre de progression pendant le traitement.\n",
    "    \n",
    "    Args:\n",
    "        word_index (dict): Dictionnaire de mots et leurs indices\n",
    "        embeddings_index (dict): Dictionnaire des embeddings pré-entraînés\n",
    "        embedding_dim (int): Dimension des vecteurs d'embedding\n",
    "        \n",
    "    Returns:\n",
    "        numpy.ndarray: Matrice d'embedding\n",
    "    \"\"\"\n",
    "    vocab_size = len(word_index) + 1\n",
    "    embedding_matrix = np.zeros((vocab_size, embedding_dim))\n",
    "    \n",
    "    found_words = 0\n",
    "    \n",
    "    # Utiliser tqdm pour afficher une barre de progression\n",
    "    print(f\"Création de la matrice d'embedding pour {len(word_index)} mots...\")\n",
    "    for word, i in tqdm(word_index.items(), total=len(word_index), desc=\"Création matrice d'embedding\"):\n",
    "        embedding_vector = embeddings_index.get(word)\n",
    "        if embedding_vector is not None:\n",
    "            embedding_matrix[i] = embedding_vector\n",
    "            found_words += 1\n",
    "    \n",
    "    print(f\"Trouvé {found_words} mots ({found_words/len(word_index)*100:.2f}%) dans les embeddings pré-entraînés.\")\n",
    "    return embedding_matrix"
   ]
  },
  {
   "cell_type": "code",
   "execution_count": 27,
   "metadata": {},
   "outputs": [],
   "source": [
    "# glove_embeddings_300d = load_glove_embeddings(embedding_dim=300)\n",
    "# glove_matrix_300d = create_embedding_matrix(tokenizer.word_index, glove_embeddings_300d, 300)\n",
    "\n",
    "# fasttext_embeddings = load_fasttext_embeddings()\n",
    "# fasttext_matrix = create_embedding_matrix(tokenizer.word_index, fasttext_embeddings, 300)"
   ]
  },
  {
   "cell_type": "markdown",
   "metadata": {},
   "source": [
    "## Optimisations matérielle (utilisation du GPU)\n",
    "\n",
    "1. **Désactivation du recurrent_dropout** - Permet l'utilisation de CuDNNLSTM optimisé pour GPU\n",
    "2. **Activation de XLA** (Accelerated Linear Algebra) - Optimise les graphes d'opérations pour GPU\n",
    "3. **Précision mixte** - Utilise float16 pour les calculs et float32 pour les variables\n",
    "4. **Augmentation de la taille du batch** - Passée à 256 pour mieux exploiter le parallélisme GPU\n",
    "5. **Optimisation du pipeline de données** - Utilisation de tf.data.Dataset avec prefetch\n",
    "6. **Scheduler de taux d'apprentissage** - Décroissance exponentielle du taux pour améliorer la convergence\n",
    "\n",
    "Ces modifications permettent d'utiliser efficacement les capacités de notre **GTX 1060 3GB** tout en respectant les limitations de la mémoire."
   ]
  },
  {
   "cell_type": "markdown",
   "metadata": {},
   "source": [
    "### Utilisation du GPU"
   ]
  },
  {
   "cell_type": "code",
   "execution_count": null,
   "metadata": {},
   "outputs": [
    {
     "name": "stdout",
     "output_type": "stream",
     "text": [
      "GPU disponible : [PhysicalDevice(name='/physical_device:GPU:0', device_type='GPU')]\n",
      "TensorFlow utilise GPU: True\n",
      "Devices disponibles: [PhysicalDevice(name='/physical_device:CPU:0', device_type='CPU'), PhysicalDevice(name='/physical_device:GPU:0', device_type='GPU')]\n",
      "Compute dtype: float16\n",
      "Variable dtype: float32\n"
     ]
    },
    {
     "name": "stderr",
     "output_type": "stream",
     "text": [
      "I0000 00:00:1742575032.403569   26544 gpu_device.cc:2019] Created device /device:GPU:0 with 1962 MB memory:  -> device: 0, name: NVIDIA GeForce GTX 1060 3GB, pci bus id: 0000:01:00.0, compute capability: 6.1\n"
     ]
    }
   ],
   "source": [
    "import tensorflow as tf\n",
    "\n",
    "# Configuration de TensorFlow pour utiliser la GPU si disponible\n",
    "physical_devices = tf.config.list_physical_devices('GPU')\n",
    "if physical_devices:\n",
    "    tf.config.experimental.set_memory_growth(physical_devices[0], True)\n",
    "    print(\"GPU disponible :\", physical_devices)\n",
    "else:\n",
    "    print(\"Pas de GPU disponible, utilisation du CPU\")\n",
    "\n",
    "# Vérifier que TensorFlow utilise le GPU\n",
    "print(f\"TensorFlow utilise GPU: {tf.test.is_gpu_available()}\")\n",
    "print(f\"Devices disponibles: {tf.config.list_physical_devices()}\")\n",
    "\n",
    "# Optimiser les performances avec mixed precision\n",
    "# Cette option accélère l'entraînement sur les GPU récents\n",
    "policy = tf.keras.mixed_precision.Policy('mixed_float16')\n",
    "tf.keras.mixed_precision.set_global_policy(policy)\n",
    "print(f'Compute dtype: {policy.compute_dtype}')\n",
    "print(f'Variable dtype: {policy.variable_dtype}')"
   ]
  },
  {
   "cell_type": "markdown",
   "metadata": {},
   "source": [
    "### Optimisations de la mémoire et configuration TensorFlow"
   ]
  },
  {
   "cell_type": "code",
   "execution_count": null,
   "metadata": {},
   "outputs": [
    {
     "name": "stdout",
     "output_type": "stream",
     "text": [
      "Mémoire GPU dynamique activée\n",
      "Politique de calcul: mixed_float16\n"
     ]
    }
   ],
   "source": [
    "# Activer la mémoire GPU dynamique\n",
    "gpus = tf.config.experimental.list_physical_devices('GPU')\n",
    "if gpus:\n",
    "    try:\n",
    "        for gpu in gpus:\n",
    "            tf.config.experimental.set_memory_growth(gpu, True)\n",
    "        print(\"Mémoire GPU dynamique activée\")\n",
    "    except RuntimeError as e:\n",
    "        print(f\"Erreur: {e}\")\n",
    "\n",
    "# Activer XLA (Accelerated Linear Algebra) pour optimiser les graphes\n",
    "tf.config.optimizer.set_jit(True)  # Active la compilation Just-In-Time\n",
    "\n",
    "# Précision mixte pour accélérer les calculs\n",
    "policy = tf.keras.mixed_precision.Policy('mixed_float16')\n",
    "tf.keras.mixed_precision.set_global_policy(policy)\n",
    "print(f'Politique de calcul: {policy.name}')"
   ]
  },
  {
   "cell_type": "markdown",
   "metadata": {},
   "source": [
    "### Optimisation du chargement des données"
   ]
  },
  {
   "cell_type": "code",
   "execution_count": null,
   "metadata": {},
   "outputs": [],
   "source": [
    "# 2. Optimiser le chargement des données\n",
    "AUTOTUNE = tf.data.AUTOTUNE\n",
    "BATCH_SIZE = 256  # Tester avec différentes valeurs: 128, 256, 512\n",
    "\n",
    "# Créer un dataset TensorFlow optimisé\n",
    "def create_optimized_dataset(x, y, is_training=True):\n",
    "    dataset = tf.data.Dataset.from_tensor_slices((x, y))\n",
    "    if is_training:\n",
    "        dataset = dataset.shuffle(10000)\n",
    "    \n",
    "    # Utiliser un batch plus grand pour mieux utiliser le GPU\n",
    "    dataset = dataset.batch(BATCH_SIZE)\n",
    "    \n",
    "    # Précharger les données pour éviter les goulots d'étranglement\n",
    "    dataset = dataset.prefetch(AUTOTUNE)\n",
    "    return dataset\n",
    "\n",
    "# Séparer les données de validation et créer les datasets optimisés\n",
    "val_size = int(0.1 * len(X_train_pad))\n",
    "x_val = X_train_pad[-val_size:]\n",
    "y_val = y_train[-val_size:]\n",
    "x_train_final = X_train_pad[:-val_size]\n",
    "y_train_final = y_train[:-val_size]\n",
    "\n",
    "train_dataset = create_optimized_dataset(x_train_final, y_train_final)\n",
    "val_dataset = create_optimized_dataset(x_val, y_val, is_training=False)"
   ]
  },
  {
   "cell_type": "markdown",
   "metadata": {},
   "source": [
    "Nos optimisations fonctionnent correctement : \n",
    "\n",
    "1. **XLA activé** : `Loaded cuDNN version 90300` et `Compiled cluster using XLA!` confirment que l'accélération XLA est bien activée.\n",
    "2. **CuDNN chargé** : Le message indique que cuDNN (version 9.03) est correctement chargé, ce qui signifie que vos couches LSTM utiliseront l'implémentation optimisée pour GPU.\n",
    "3. **GPU reconnu** : Le système a bien reconnu votre NVIDIA GeForce GTX 1060 3GB avec Compute Capability 6.1.\n",
    "\n",
    "Nous observervons :\n",
    "- Une utilisation GPU bien supérieure à 20% (idéalement 70-90%)\n",
    "- Un temps d'entraînement par epoch considérablement réduit\n",
    "\n",
    "Pour vérifier l'utilisation réelle du GPU pendant l'entraînement, nous pouvons  exécuter :\n",
    "\n",
    "```shell\n",
    "nvidia-smi -l 1\n",
    "``` "
   ]
  },
  {
   "cell_type": "markdown",
   "metadata": {},
   "source": [
    "### Bilan de l'optimisation\n",
    "\n",
    "Nous avons réussi à optimiser significativement l'utilisation de notre GPU. Les modifications que nous avons apportées ont considérablement amélioré les performances :\n",
    "\n",
    "- Nous avons augmenté l'**utilisation de votre GPU de 20% à 73%**\n",
    "- Nous utilisons maintenant intelligemment les 3GB de mémoire disponible\n",
    "- Nous avons activé les technologies d'**accélération comme XLA et CuDNN**\n",
    "- Nous avons désactivé le **recurrent_dropout** pour permettre l'utilisation des implémentations GPU optimisées\n",
    "- Nous avons implémenté la **précision mixte** pour accélérer les calculs\n",
    "- Nous avons optimisé la **taille du batch** et le pipeline de données\n",
    "\n",
    "Nous avons atteint un excellent équilibre entre l'utilisation maximale des ressources et la stabilité du système."
   ]
  },
  {
   "cell_type": "markdown",
   "metadata": {},
   "source": [
    "## Modèles avec embeddings pré-entraînés\n",
    "\n",
    "Voici une description de la fonction `create_lstm_model_with_pretrained` qui crée un **modèle LSTM** avec des **embeddings pré-entraînés** :\n",
    "\n",
    "- Crée un modèle de réseau de neurones pour la **classification de texte** utilisant des **embeddings pré-entraînés**\n",
    "- Initialise une couche d'embedding avec les poids fournis dans `embedding_matrix`\n",
    "- Utilise une architecture profonde avec deux couches LSTM bidirectionnelles (128 puis 64 unités)\n",
    "- Implémente plusieurs techniques de régularisation (dropout spatial et classique) pour éviter le surapprentissage\n",
    "- Inclut une couche dense intermédiaire avec activation ReLU\n",
    "- Se termine par une **couche de sortie avec activation sigmoïde**, adaptée aux problèmes de **classification binaire**\n",
    "- Compile le modèle avec l'**optimiseur Adam**, une fonction de perte d'entropie croisée binaire et suit la métrique de précision\n",
    "- Permet de contrôler si les embeddings sont entraînables ou figés via le paramètre `trainable`"
   ]
  },
  {
   "cell_type": "code",
   "execution_count": 112,
   "metadata": {},
   "outputs": [],
   "source": [
    "def create_optimized_lstm_model(embedding_matrix, max_seq_length=MAX_SEQUENCE_LENGTH, trainable=False):\n",
    "    vocab_size, embedding_dim = embedding_matrix.shape\n",
    "    \n",
    "    # Entrée du modèle\n",
    "    input_layer = tf.keras.layers.Input(shape=(max_seq_length,))\n",
    "    \n",
    "    # Couche d'embedding avec des poids pré-entraînés\n",
    "    embedding_layer = tf.keras.layers.Embedding(\n",
    "        input_dim=vocab_size,\n",
    "        output_dim=embedding_dim,\n",
    "        weights=[embedding_matrix],\n",
    "        input_length=max_seq_length,\n",
    "        trainable=trainable\n",
    "    )(input_layer)\n",
    "    \n",
    "    # Dropout spatial\n",
    "    dropout_1 = tf.keras.layers.SpatialDropout1D(0.3)(embedding_layer)\n",
    "    \n",
    "    # Couche CuDNNLSTM optimisée pour GPU (via le backend GPU automatique de TF)\n",
    "    # Note: TF2.x utilise automatiquement l'implémentation CuDNNLSTM quand recurrent_dropout=0\n",
    "    lstm_layer = tf.keras.layers.Bidirectional(\n",
    "        tf.keras.layers.LSTM(\n",
    "            units=128,\n",
    "            dropout=0.2,\n",
    "            recurrent_dropout=0.0,  # Mettre à 0 pour utiliser l'implémentation CuDNN optimisée\n",
    "            return_sequences=True\n",
    "        )\n",
    "    )(dropout_1)\n",
    "    \n",
    "    # Deuxième couche LSTM\n",
    "    lstm_layer_2 = tf.keras.layers.Bidirectional(\n",
    "        tf.keras.layers.LSTM(\n",
    "            units=64,\n",
    "            dropout=0.2,\n",
    "            recurrent_dropout=0.0  # Mettre à 0 pour utiliser l'implémentation CuDNN optimisée\n",
    "        )\n",
    "    )(lstm_layer)\n",
    "    \n",
    "    # Couche dense avec activation ReLU\n",
    "    dense_1 = tf.keras.layers.Dense(64, activation='relu')(lstm_layer_2)\n",
    "    dropout_2 = tf.keras.layers.Dropout(0.4)(dense_1)\n",
    "    \n",
    "    # Couche de sortie\n",
    "    output_layer = tf.keras.layers.Dense(1, activation='sigmoid')(dropout_2)\n",
    "    \n",
    "    # Créer et compiler le modèle avec un optimiseur efficace sur GPU\n",
    "    model = tf.keras.Model(inputs=input_layer, outputs=output_layer)\n",
    "    \n",
    "    # Utiliser un taux d'apprentissage avec décroissance\n",
    "    # lr_schedule = tf.keras.optimizers.schedules.ExponentialDecay(\n",
    "    #     initial_learning_rate=0.001,\n",
    "    #     decay_steps=1000,\n",
    "    #     decay_rate=0.9,\n",
    "    #     staircase=True\n",
    "    # )\n",
    "\n",
    "    model.compile(\n",
    "        optimizer=tf.keras.optimizers.Adam(learning_rate=0.001),  # taux fixe\n",
    "        loss='binary_crossentropy',\n",
    "        metrics=['accuracy']\n",
    "    )\n",
    "    \n",
    "    return model"
   ]
  },
  {
   "cell_type": "markdown",
   "metadata": {},
   "source": [
    "### LSTM avec Word2Vec"
   ]
  },
  {
   "cell_type": "code",
   "execution_count": 90,
   "metadata": {},
   "outputs": [
    {
     "name": "stdout",
     "output_type": "stream",
     "text": [
      "Chargement des embeddings Word2Vec...\n",
      "Trouvé 500000 vecteurs d'embeddings Word2Vec.\n",
      "Création de la matrice d'embedding pour 54591 mots...\n"
     ]
    },
    {
     "name": "stderr",
     "output_type": "stream",
     "text": [
      "Création matrice d'embedding: 100%|██████████| 54591/54591 [00:00<00:00, 822531.02it/s]"
     ]
    },
    {
     "name": "stdout",
     "output_type": "stream",
     "text": [
      "Trouvé 17979 mots (32.93%) dans les embeddings pré-entraînés.\n",
      "Forme de la matrice d'embedding: (54592, 300)\n",
      "Échantillon de valeurs: [0. 0. 0. 0. 0. 0. 0. 0. 0. 0.]\n",
      "Type de données: float64\n"
     ]
    },
    {
     "name": "stderr",
     "output_type": "stream",
     "text": [
      "\n"
     ]
    }
   ],
   "source": [
    "word2vec_embeddings = load_word2vec_embeddings()\n",
    "word2vec_matrix = create_embedding_matrix(tokenizer.word_index, word2vec_embeddings, 300)\n",
    "\n",
    "# Vérifiez la forme et les valeurs de la matrice d'embedding\n",
    "print(\"Forme de la matrice d'embedding:\", word2vec_matrix.shape)\n",
    "print(\"Échantillon de valeurs:\", word2vec_matrix[0, :10])  # Affiche les 10 premières valeurs de la première ligne\n",
    "print(\"Type de données:\", word2vec_matrix.dtype)"
   ]
  },
  {
   "cell_type": "markdown",
   "metadata": {},
   "source": [
    "### Callbacks optimisés"
   ]
  },
  {
   "cell_type": "code",
   "execution_count": 113,
   "metadata": {},
   "outputs": [],
   "source": [
    "\n",
    "model_checkpoint = tf.keras.callbacks.ModelCheckpoint(\n",
    "    filepath='content/advanced-model/best/model_lstm_word2vec.h5',\n",
    "    monitor='val_loss',\n",
    "    save_best_only=True,\n",
    "    mode='min',\n",
    "    verbose=1\n",
    ")\n",
    "\n",
    "early_stopping = tf.keras.callbacks.EarlyStopping(\n",
    "    monitor='val_loss',\n",
    "    patience=10,\n",
    "    restore_best_weights=True\n",
    ")\n",
    "\n",
    "reduce_lr = tf.keras.callbacks.ReduceLROnPlateau(\n",
    "    monitor='val_loss',\n",
    "    factor=0.2,\n",
    "    patience=2,\n",
    "    min_lr=0.00001\n",
    ")"
   ]
  },
  {
   "cell_type": "code",
   "execution_count": 114,
   "metadata": {},
   "outputs": [
    {
     "data": {
      "text/html": [
       "<pre style=\"white-space:pre;overflow-x:auto;line-height:normal;font-family:Menlo,'DejaVu Sans Mono',consolas,'Courier New',monospace\"><span style=\"font-weight: bold\">Model: \"functional_8\"</span>\n",
       "</pre>\n"
      ],
      "text/plain": [
       "\u001b[1mModel: \"functional_8\"\u001b[0m\n"
      ]
     },
     "metadata": {},
     "output_type": "display_data"
    },
    {
     "data": {
      "text/html": [
       "<pre style=\"white-space:pre;overflow-x:auto;line-height:normal;font-family:Menlo,'DejaVu Sans Mono',consolas,'Courier New',monospace\">┏━━━━━━━━━━━━━━━━━━━━━━━━━━━━━━━━━┳━━━━━━━━━━━━━━━━━━━━━━━━┳━━━━━━━━━━━━━━━┓\n",
       "┃<span style=\"font-weight: bold\"> Layer (type)                    </span>┃<span style=\"font-weight: bold\"> Output Shape           </span>┃<span style=\"font-weight: bold\">       Param # </span>┃\n",
       "┡━━━━━━━━━━━━━━━━━━━━━━━━━━━━━━━━━╇━━━━━━━━━━━━━━━━━━━━━━━━╇━━━━━━━━━━━━━━━┩\n",
       "│ input_layer_8 (<span style=\"color: #0087ff; text-decoration-color: #0087ff\">InputLayer</span>)      │ (<span style=\"color: #00d7ff; text-decoration-color: #00d7ff\">None</span>, <span style=\"color: #00af00; text-decoration-color: #00af00\">50</span>)             │             <span style=\"color: #00af00; text-decoration-color: #00af00\">0</span> │\n",
       "├─────────────────────────────────┼────────────────────────┼───────────────┤\n",
       "│ embedding_9 (<span style=\"color: #0087ff; text-decoration-color: #0087ff\">Embedding</span>)         │ (<span style=\"color: #00d7ff; text-decoration-color: #00d7ff\">None</span>, <span style=\"color: #00af00; text-decoration-color: #00af00\">50</span>, <span style=\"color: #00af00; text-decoration-color: #00af00\">300</span>)        │    <span style=\"color: #00af00; text-decoration-color: #00af00\">16,377,600</span> │\n",
       "├─────────────────────────────────┼────────────────────────┼───────────────┤\n",
       "│ spatial_dropout1d_8             │ (<span style=\"color: #00d7ff; text-decoration-color: #00d7ff\">None</span>, <span style=\"color: #00af00; text-decoration-color: #00af00\">50</span>, <span style=\"color: #00af00; text-decoration-color: #00af00\">300</span>)        │             <span style=\"color: #00af00; text-decoration-color: #00af00\">0</span> │\n",
       "│ (<span style=\"color: #0087ff; text-decoration-color: #0087ff\">SpatialDropout1D</span>)              │                        │               │\n",
       "├─────────────────────────────────┼────────────────────────┼───────────────┤\n",
       "│ bidirectional_16                │ (<span style=\"color: #00d7ff; text-decoration-color: #00d7ff\">None</span>, <span style=\"color: #00af00; text-decoration-color: #00af00\">50</span>, <span style=\"color: #00af00; text-decoration-color: #00af00\">256</span>)        │       <span style=\"color: #00af00; text-decoration-color: #00af00\">439,296</span> │\n",
       "│ (<span style=\"color: #0087ff; text-decoration-color: #0087ff\">Bidirectional</span>)                 │                        │               │\n",
       "├─────────────────────────────────┼────────────────────────┼───────────────┤\n",
       "│ bidirectional_17                │ (<span style=\"color: #00d7ff; text-decoration-color: #00d7ff\">None</span>, <span style=\"color: #00af00; text-decoration-color: #00af00\">128</span>)            │       <span style=\"color: #00af00; text-decoration-color: #00af00\">164,352</span> │\n",
       "│ (<span style=\"color: #0087ff; text-decoration-color: #0087ff\">Bidirectional</span>)                 │                        │               │\n",
       "├─────────────────────────────────┼────────────────────────┼───────────────┤\n",
       "│ dense_17 (<span style=\"color: #0087ff; text-decoration-color: #0087ff\">Dense</span>)                │ (<span style=\"color: #00d7ff; text-decoration-color: #00d7ff\">None</span>, <span style=\"color: #00af00; text-decoration-color: #00af00\">64</span>)             │         <span style=\"color: #00af00; text-decoration-color: #00af00\">8,256</span> │\n",
       "├─────────────────────────────────┼────────────────────────┼───────────────┤\n",
       "│ dropout_8 (<span style=\"color: #0087ff; text-decoration-color: #0087ff\">Dropout</span>)             │ (<span style=\"color: #00d7ff; text-decoration-color: #00d7ff\">None</span>, <span style=\"color: #00af00; text-decoration-color: #00af00\">64</span>)             │             <span style=\"color: #00af00; text-decoration-color: #00af00\">0</span> │\n",
       "├─────────────────────────────────┼────────────────────────┼───────────────┤\n",
       "│ dense_18 (<span style=\"color: #0087ff; text-decoration-color: #0087ff\">Dense</span>)                │ (<span style=\"color: #00d7ff; text-decoration-color: #00d7ff\">None</span>, <span style=\"color: #00af00; text-decoration-color: #00af00\">1</span>)              │            <span style=\"color: #00af00; text-decoration-color: #00af00\">65</span> │\n",
       "└─────────────────────────────────┴────────────────────────┴───────────────┘\n",
       "</pre>\n"
      ],
      "text/plain": [
       "┏━━━━━━━━━━━━━━━━━━━━━━━━━━━━━━━━━┳━━━━━━━━━━━━━━━━━━━━━━━━┳━━━━━━━━━━━━━━━┓\n",
       "┃\u001b[1m \u001b[0m\u001b[1mLayer (type)                   \u001b[0m\u001b[1m \u001b[0m┃\u001b[1m \u001b[0m\u001b[1mOutput Shape          \u001b[0m\u001b[1m \u001b[0m┃\u001b[1m \u001b[0m\u001b[1m      Param #\u001b[0m\u001b[1m \u001b[0m┃\n",
       "┡━━━━━━━━━━━━━━━━━━━━━━━━━━━━━━━━━╇━━━━━━━━━━━━━━━━━━━━━━━━╇━━━━━━━━━━━━━━━┩\n",
       "│ input_layer_8 (\u001b[38;5;33mInputLayer\u001b[0m)      │ (\u001b[38;5;45mNone\u001b[0m, \u001b[38;5;34m50\u001b[0m)             │             \u001b[38;5;34m0\u001b[0m │\n",
       "├─────────────────────────────────┼────────────────────────┼───────────────┤\n",
       "│ embedding_9 (\u001b[38;5;33mEmbedding\u001b[0m)         │ (\u001b[38;5;45mNone\u001b[0m, \u001b[38;5;34m50\u001b[0m, \u001b[38;5;34m300\u001b[0m)        │    \u001b[38;5;34m16,377,600\u001b[0m │\n",
       "├─────────────────────────────────┼────────────────────────┼───────────────┤\n",
       "│ spatial_dropout1d_8             │ (\u001b[38;5;45mNone\u001b[0m, \u001b[38;5;34m50\u001b[0m, \u001b[38;5;34m300\u001b[0m)        │             \u001b[38;5;34m0\u001b[0m │\n",
       "│ (\u001b[38;5;33mSpatialDropout1D\u001b[0m)              │                        │               │\n",
       "├─────────────────────────────────┼────────────────────────┼───────────────┤\n",
       "│ bidirectional_16                │ (\u001b[38;5;45mNone\u001b[0m, \u001b[38;5;34m50\u001b[0m, \u001b[38;5;34m256\u001b[0m)        │       \u001b[38;5;34m439,296\u001b[0m │\n",
       "│ (\u001b[38;5;33mBidirectional\u001b[0m)                 │                        │               │\n",
       "├─────────────────────────────────┼────────────────────────┼───────────────┤\n",
       "│ bidirectional_17                │ (\u001b[38;5;45mNone\u001b[0m, \u001b[38;5;34m128\u001b[0m)            │       \u001b[38;5;34m164,352\u001b[0m │\n",
       "│ (\u001b[38;5;33mBidirectional\u001b[0m)                 │                        │               │\n",
       "├─────────────────────────────────┼────────────────────────┼───────────────┤\n",
       "│ dense_17 (\u001b[38;5;33mDense\u001b[0m)                │ (\u001b[38;5;45mNone\u001b[0m, \u001b[38;5;34m64\u001b[0m)             │         \u001b[38;5;34m8,256\u001b[0m │\n",
       "├─────────────────────────────────┼────────────────────────┼───────────────┤\n",
       "│ dropout_8 (\u001b[38;5;33mDropout\u001b[0m)             │ (\u001b[38;5;45mNone\u001b[0m, \u001b[38;5;34m64\u001b[0m)             │             \u001b[38;5;34m0\u001b[0m │\n",
       "├─────────────────────────────────┼────────────────────────┼───────────────┤\n",
       "│ dense_18 (\u001b[38;5;33mDense\u001b[0m)                │ (\u001b[38;5;45mNone\u001b[0m, \u001b[38;5;34m1\u001b[0m)              │            \u001b[38;5;34m65\u001b[0m │\n",
       "└─────────────────────────────────┴────────────────────────┴───────────────┘\n"
      ]
     },
     "metadata": {},
     "output_type": "display_data"
    },
    {
     "data": {
      "text/html": [
       "<pre style=\"white-space:pre;overflow-x:auto;line-height:normal;font-family:Menlo,'DejaVu Sans Mono',consolas,'Courier New',monospace\"><span style=\"font-weight: bold\"> Total params: </span><span style=\"color: #00af00; text-decoration-color: #00af00\">16,989,569</span> (64.81 MB)\n",
       "</pre>\n"
      ],
      "text/plain": [
       "\u001b[1m Total params: \u001b[0m\u001b[38;5;34m16,989,569\u001b[0m (64.81 MB)\n"
      ]
     },
     "metadata": {},
     "output_type": "display_data"
    },
    {
     "data": {
      "text/html": [
       "<pre style=\"white-space:pre;overflow-x:auto;line-height:normal;font-family:Menlo,'DejaVu Sans Mono',consolas,'Courier New',monospace\"><span style=\"font-weight: bold\"> Trainable params: </span><span style=\"color: #00af00; text-decoration-color: #00af00\">611,969</span> (2.33 MB)\n",
       "</pre>\n"
      ],
      "text/plain": [
       "\u001b[1m Trainable params: \u001b[0m\u001b[38;5;34m611,969\u001b[0m (2.33 MB)\n"
      ]
     },
     "metadata": {},
     "output_type": "display_data"
    },
    {
     "data": {
      "text/html": [
       "<pre style=\"white-space:pre;overflow-x:auto;line-height:normal;font-family:Menlo,'DejaVu Sans Mono',consolas,'Courier New',monospace\"><span style=\"font-weight: bold\"> Non-trainable params: </span><span style=\"color: #00af00; text-decoration-color: #00af00\">16,377,600</span> (62.48 MB)\n",
       "</pre>\n"
      ],
      "text/plain": [
       "\u001b[1m Non-trainable params: \u001b[0m\u001b[38;5;34m16,377,600\u001b[0m (62.48 MB)\n"
      ]
     },
     "metadata": {},
     "output_type": "display_data"
    },
    {
     "name": "stdout",
     "output_type": "stream",
     "text": [
      "None\n"
     ]
    }
   ],
   "source": [
    "# 5. Créer et entraîner le modèle optimisé\n",
    "model_lstm_word2vec = create_optimized_lstm_model(word2vec_matrix, trainable=False)\n",
    "print(model_lstm_word2vec.summary())"
   ]
  },
  {
   "cell_type": "markdown",
   "metadata": {},
   "source": [
    "#### Entraînement avec les datasets optimisés"
   ]
  },
  {
   "cell_type": "code",
   "execution_count": 115,
   "metadata": {},
   "outputs": [
    {
     "name": "stdout",
     "output_type": "stream",
     "text": [
      "Epoch 1/20\n",
      "\u001b[1m282/282\u001b[0m \u001b[32m━━━━━━━━━━━━━━━━━━━━\u001b[0m\u001b[37m\u001b[0m \u001b[1m0s\u001b[0m 56ms/step - accuracy: 0.6717 - loss: 0.6058\n",
      "Epoch 1: val_loss improved from inf to 0.52906, saving model to content/advanced-model/best/model_lstm_word2vec.h5\n"
     ]
    },
    {
     "name": "stderr",
     "output_type": "stream",
     "text": [
      "WARNING:absl:You are saving your model as an HDF5 file via `model.save()` or `keras.saving.save_model(model)`. This file format is considered legacy. We recommend using instead the native Keras format, e.g. `model.save('my_model.keras')` or `keras.saving.save_model(model, 'my_model.keras')`. \n"
     ]
    },
    {
     "name": "stdout",
     "output_type": "stream",
     "text": [
      "\u001b[1m282/282\u001b[0m \u001b[32m━━━━━━━━━━━━━━━━━━━━\u001b[0m\u001b[37m\u001b[0m \u001b[1m31s\u001b[0m 64ms/step - accuracy: 0.6718 - loss: 0.6057 - val_accuracy: 0.7377 - val_loss: 0.5291 - learning_rate: 0.0010\n",
      "Epoch 2/20\n",
      "\u001b[1m282/282\u001b[0m \u001b[32m━━━━━━━━━━━━━━━━━━━━\u001b[0m\u001b[37m\u001b[0m \u001b[1m0s\u001b[0m 61ms/step - accuracy: 0.7221 - loss: 0.5448\n",
      "Epoch 2: val_loss improved from 0.52906 to 0.50390, saving model to content/advanced-model/best/model_lstm_word2vec.h5\n"
     ]
    },
    {
     "name": "stderr",
     "output_type": "stream",
     "text": [
      "WARNING:absl:You are saving your model as an HDF5 file via `model.save()` or `keras.saving.save_model(model)`. This file format is considered legacy. We recommend using instead the native Keras format, e.g. `model.save('my_model.keras')` or `keras.saving.save_model(model, 'my_model.keras')`. \n"
     ]
    },
    {
     "name": "stdout",
     "output_type": "stream",
     "text": [
      "\u001b[1m282/282\u001b[0m \u001b[32m━━━━━━━━━━━━━━━━━━━━\u001b[0m\u001b[37m\u001b[0m \u001b[1m19s\u001b[0m 66ms/step - accuracy: 0.7221 - loss: 0.5447 - val_accuracy: 0.7581 - val_loss: 0.5039 - learning_rate: 0.0010\n",
      "Epoch 3/20\n",
      "\u001b[1m282/282\u001b[0m \u001b[32m━━━━━━━━━━━━━━━━━━━━\u001b[0m\u001b[37m\u001b[0m \u001b[1m0s\u001b[0m 49ms/step - accuracy: 0.7385 - loss: 0.5243\n",
      "Epoch 3: val_loss improved from 0.50390 to 0.48829, saving model to content/advanced-model/best/model_lstm_word2vec.h5\n"
     ]
    },
    {
     "name": "stderr",
     "output_type": "stream",
     "text": [
      "WARNING:absl:You are saving your model as an HDF5 file via `model.save()` or `keras.saving.save_model(model)`. This file format is considered legacy. We recommend using instead the native Keras format, e.g. `model.save('my_model.keras')` or `keras.saving.save_model(model, 'my_model.keras')`. \n"
     ]
    },
    {
     "name": "stdout",
     "output_type": "stream",
     "text": [
      "\u001b[1m282/282\u001b[0m \u001b[32m━━━━━━━━━━━━━━━━━━━━\u001b[0m\u001b[37m\u001b[0m \u001b[1m15s\u001b[0m 52ms/step - accuracy: 0.7385 - loss: 0.5242 - val_accuracy: 0.7623 - val_loss: 0.4883 - learning_rate: 0.0010\n",
      "Epoch 4/20\n",
      "\u001b[1m281/282\u001b[0m \u001b[32m━━━━━━━━━━━━━━━━━━━\u001b[0m\u001b[37m━\u001b[0m \u001b[1m0s\u001b[0m 47ms/step - accuracy: 0.7515 - loss: 0.5047\n",
      "Epoch 4: val_loss improved from 0.48829 to 0.47920, saving model to content/advanced-model/best/model_lstm_word2vec.h5\n"
     ]
    },
    {
     "name": "stderr",
     "output_type": "stream",
     "text": [
      "WARNING:absl:You are saving your model as an HDF5 file via `model.save()` or `keras.saving.save_model(model)`. This file format is considered legacy. We recommend using instead the native Keras format, e.g. `model.save('my_model.keras')` or `keras.saving.save_model(model, 'my_model.keras')`. \n"
     ]
    },
    {
     "name": "stdout",
     "output_type": "stream",
     "text": [
      "\u001b[1m282/282\u001b[0m \u001b[32m━━━━━━━━━━━━━━━━━━━━\u001b[0m\u001b[37m\u001b[0m \u001b[1m14s\u001b[0m 50ms/step - accuracy: 0.7515 - loss: 0.5047 - val_accuracy: 0.7747 - val_loss: 0.4792 - learning_rate: 0.0010\n",
      "Epoch 5/20\n",
      "\u001b[1m282/282\u001b[0m \u001b[32m━━━━━━━━━━━━━━━━━━━━\u001b[0m\u001b[37m\u001b[0m \u001b[1m0s\u001b[0m 49ms/step - accuracy: 0.7597 - loss: 0.4942\n",
      "Epoch 5: val_loss improved from 0.47920 to 0.47911, saving model to content/advanced-model/best/model_lstm_word2vec.h5\n"
     ]
    },
    {
     "name": "stderr",
     "output_type": "stream",
     "text": [
      "WARNING:absl:You are saving your model as an HDF5 file via `model.save()` or `keras.saving.save_model(model)`. This file format is considered legacy. We recommend using instead the native Keras format, e.g. `model.save('my_model.keras')` or `keras.saving.save_model(model, 'my_model.keras')`. \n"
     ]
    },
    {
     "name": "stdout",
     "output_type": "stream",
     "text": [
      "\u001b[1m282/282\u001b[0m \u001b[32m━━━━━━━━━━━━━━━━━━━━\u001b[0m\u001b[37m\u001b[0m \u001b[1m15s\u001b[0m 52ms/step - accuracy: 0.7597 - loss: 0.4942 - val_accuracy: 0.7657 - val_loss: 0.4791 - learning_rate: 0.0010\n",
      "Epoch 6/20\n",
      "\u001b[1m281/282\u001b[0m \u001b[32m━━━━━━━━━━━━━━━━━━━\u001b[0m\u001b[37m━\u001b[0m \u001b[1m0s\u001b[0m 48ms/step - accuracy: 0.7665 - loss: 0.4855\n",
      "Epoch 6: val_loss improved from 0.47911 to 0.47172, saving model to content/advanced-model/best/model_lstm_word2vec.h5\n"
     ]
    },
    {
     "name": "stderr",
     "output_type": "stream",
     "text": [
      "WARNING:absl:You are saving your model as an HDF5 file via `model.save()` or `keras.saving.save_model(model)`. This file format is considered legacy. We recommend using instead the native Keras format, e.g. `model.save('my_model.keras')` or `keras.saving.save_model(model, 'my_model.keras')`. \n"
     ]
    },
    {
     "name": "stdout",
     "output_type": "stream",
     "text": [
      "\u001b[1m282/282\u001b[0m \u001b[32m━━━━━━━━━━━━━━━━━━━━\u001b[0m\u001b[37m\u001b[0m \u001b[1m15s\u001b[0m 52ms/step - accuracy: 0.7665 - loss: 0.4854 - val_accuracy: 0.7763 - val_loss: 0.4717 - learning_rate: 0.0010\n",
      "Epoch 7/20\n",
      "\u001b[1m281/282\u001b[0m \u001b[32m━━━━━━━━━━━━━━━━━━━\u001b[0m\u001b[37m━\u001b[0m \u001b[1m0s\u001b[0m 50ms/step - accuracy: 0.7730 - loss: 0.4736\n",
      "Epoch 7: val_loss did not improve from 0.47172\n",
      "\u001b[1m282/282\u001b[0m \u001b[32m━━━━━━━━━━━━━━━━━━━━\u001b[0m\u001b[37m\u001b[0m \u001b[1m15s\u001b[0m 52ms/step - accuracy: 0.7730 - loss: 0.4736 - val_accuracy: 0.7710 - val_loss: 0.4755 - learning_rate: 0.0010\n",
      "Epoch 8/20\n",
      "\u001b[1m281/282\u001b[0m \u001b[32m━━━━━━━━━━━━━━━━━━━\u001b[0m\u001b[37m━\u001b[0m \u001b[1m0s\u001b[0m 48ms/step - accuracy: 0.7760 - loss: 0.4676\n",
      "Epoch 8: val_loss improved from 0.47172 to 0.46379, saving model to content/advanced-model/best/model_lstm_word2vec.h5\n"
     ]
    },
    {
     "name": "stderr",
     "output_type": "stream",
     "text": [
      "WARNING:absl:You are saving your model as an HDF5 file via `model.save()` or `keras.saving.save_model(model)`. This file format is considered legacy. We recommend using instead the native Keras format, e.g. `model.save('my_model.keras')` or `keras.saving.save_model(model, 'my_model.keras')`. \n"
     ]
    },
    {
     "name": "stdout",
     "output_type": "stream",
     "text": [
      "\u001b[1m282/282\u001b[0m \u001b[32m━━━━━━━━━━━━━━━━━━━━\u001b[0m\u001b[37m\u001b[0m \u001b[1m14s\u001b[0m 51ms/step - accuracy: 0.7760 - loss: 0.4676 - val_accuracy: 0.7822 - val_loss: 0.4638 - learning_rate: 0.0010\n",
      "Epoch 9/20\n",
      "\u001b[1m281/282\u001b[0m \u001b[32m━━━━━━━━━━━━━━━━━━━\u001b[0m\u001b[37m━\u001b[0m \u001b[1m0s\u001b[0m 46ms/step - accuracy: 0.7793 - loss: 0.4640\n",
      "Epoch 9: val_loss did not improve from 0.46379\n",
      "\u001b[1m282/282\u001b[0m \u001b[32m━━━━━━━━━━━━━━━━━━━━\u001b[0m\u001b[37m\u001b[0m \u001b[1m14s\u001b[0m 48ms/step - accuracy: 0.7793 - loss: 0.4640 - val_accuracy: 0.7812 - val_loss: 0.4640 - learning_rate: 0.0010\n",
      "Epoch 10/20\n",
      "\u001b[1m281/282\u001b[0m \u001b[32m━━━━━━━━━━━━━━━━━━━\u001b[0m\u001b[37m━\u001b[0m \u001b[1m0s\u001b[0m 45ms/step - accuracy: 0.7844 - loss: 0.4553\n",
      "Epoch 10: val_loss improved from 0.46379 to 0.46340, saving model to content/advanced-model/best/model_lstm_word2vec.h5\n"
     ]
    },
    {
     "name": "stderr",
     "output_type": "stream",
     "text": [
      "WARNING:absl:You are saving your model as an HDF5 file via `model.save()` or `keras.saving.save_model(model)`. This file format is considered legacy. We recommend using instead the native Keras format, e.g. `model.save('my_model.keras')` or `keras.saving.save_model(model, 'my_model.keras')`. \n"
     ]
    },
    {
     "name": "stdout",
     "output_type": "stream",
     "text": [
      "\u001b[1m282/282\u001b[0m \u001b[32m━━━━━━━━━━━━━━━━━━━━\u001b[0m\u001b[37m\u001b[0m \u001b[1m14s\u001b[0m 48ms/step - accuracy: 0.7844 - loss: 0.4552 - val_accuracy: 0.7850 - val_loss: 0.4634 - learning_rate: 0.0010\n",
      "Epoch 11/20\n",
      "\u001b[1m281/282\u001b[0m \u001b[32m━━━━━━━━━━━━━━━━━━━\u001b[0m\u001b[37m━\u001b[0m \u001b[1m0s\u001b[0m 47ms/step - accuracy: 0.7857 - loss: 0.4497\n",
      "Epoch 11: val_loss improved from 0.46340 to 0.46012, saving model to content/advanced-model/best/model_lstm_word2vec.h5\n"
     ]
    },
    {
     "name": "stderr",
     "output_type": "stream",
     "text": [
      "WARNING:absl:You are saving your model as an HDF5 file via `model.save()` or `keras.saving.save_model(model)`. This file format is considered legacy. We recommend using instead the native Keras format, e.g. `model.save('my_model.keras')` or `keras.saving.save_model(model, 'my_model.keras')`. \n"
     ]
    },
    {
     "name": "stdout",
     "output_type": "stream",
     "text": [
      "\u001b[1m282/282\u001b[0m \u001b[32m━━━━━━━━━━━━━━━━━━━━\u001b[0m\u001b[37m\u001b[0m \u001b[1m14s\u001b[0m 49ms/step - accuracy: 0.7857 - loss: 0.4497 - val_accuracy: 0.7821 - val_loss: 0.4601 - learning_rate: 0.0010\n",
      "Epoch 12/20\n",
      "\u001b[1m281/282\u001b[0m \u001b[32m━━━━━━━━━━━━━━━━━━━\u001b[0m\u001b[37m━\u001b[0m \u001b[1m0s\u001b[0m 46ms/step - accuracy: 0.7899 - loss: 0.4437\n",
      "Epoch 12: val_loss did not improve from 0.46012\n",
      "\u001b[1m282/282\u001b[0m \u001b[32m━━━━━━━━━━━━━━━━━━━━\u001b[0m\u001b[37m\u001b[0m \u001b[1m14s\u001b[0m 48ms/step - accuracy: 0.7899 - loss: 0.4437 - val_accuracy: 0.7849 - val_loss: 0.4631 - learning_rate: 0.0010\n",
      "Epoch 13/20\n",
      "\u001b[1m282/282\u001b[0m \u001b[32m━━━━━━━━━━━━━━━━━━━━\u001b[0m\u001b[37m\u001b[0m \u001b[1m0s\u001b[0m 45ms/step - accuracy: 0.7932 - loss: 0.4412\n",
      "Epoch 13: val_loss improved from 0.46012 to 0.45962, saving model to content/advanced-model/best/model_lstm_word2vec.h5\n"
     ]
    },
    {
     "name": "stderr",
     "output_type": "stream",
     "text": [
      "WARNING:absl:You are saving your model as an HDF5 file via `model.save()` or `keras.saving.save_model(model)`. This file format is considered legacy. We recommend using instead the native Keras format, e.g. `model.save('my_model.keras')` or `keras.saving.save_model(model, 'my_model.keras')`. \n"
     ]
    },
    {
     "name": "stdout",
     "output_type": "stream",
     "text": [
      "\u001b[1m282/282\u001b[0m \u001b[32m━━━━━━━━━━━━━━━━━━━━\u001b[0m\u001b[37m\u001b[0m \u001b[1m14s\u001b[0m 48ms/step - accuracy: 0.7932 - loss: 0.4412 - val_accuracy: 0.7816 - val_loss: 0.4596 - learning_rate: 0.0010\n",
      "Epoch 14/20\n",
      "\u001b[1m281/282\u001b[0m \u001b[32m━━━━━━━━━━━━━━━━━━━\u001b[0m\u001b[37m━\u001b[0m \u001b[1m0s\u001b[0m 46ms/step - accuracy: 0.7962 - loss: 0.4337\n",
      "Epoch 14: val_loss did not improve from 0.45962\n",
      "\u001b[1m282/282\u001b[0m \u001b[32m━━━━━━━━━━━━━━━━━━━━\u001b[0m\u001b[37m\u001b[0m \u001b[1m14s\u001b[0m 49ms/step - accuracy: 0.7962 - loss: 0.4337 - val_accuracy: 0.7826 - val_loss: 0.4606 - learning_rate: 0.0010\n",
      "Epoch 15/20\n",
      "\u001b[1m282/282\u001b[0m \u001b[32m━━━━━━━━━━━━━━━━━━━━\u001b[0m\u001b[37m\u001b[0m \u001b[1m0s\u001b[0m 47ms/step - accuracy: 0.8012 - loss: 0.4271\n",
      "Epoch 15: val_loss did not improve from 0.45962\n",
      "\u001b[1m282/282\u001b[0m \u001b[32m━━━━━━━━━━━━━━━━━━━━\u001b[0m\u001b[37m\u001b[0m \u001b[1m14s\u001b[0m 49ms/step - accuracy: 0.8012 - loss: 0.4271 - val_accuracy: 0.7851 - val_loss: 0.4684 - learning_rate: 0.0010\n",
      "Epoch 16/20\n",
      "\u001b[1m281/282\u001b[0m \u001b[32m━━━━━━━━━━━━━━━━━━━\u001b[0m\u001b[37m━\u001b[0m \u001b[1m0s\u001b[0m 46ms/step - accuracy: 0.8069 - loss: 0.4135\n",
      "Epoch 16: val_loss did not improve from 0.45962\n",
      "\u001b[1m282/282\u001b[0m \u001b[32m━━━━━━━━━━━━━━━━━━━━\u001b[0m\u001b[37m\u001b[0m \u001b[1m14s\u001b[0m 48ms/step - accuracy: 0.8069 - loss: 0.4135 - val_accuracy: 0.7844 - val_loss: 0.4653 - learning_rate: 2.0000e-04\n",
      "Epoch 17/20\n",
      "\u001b[1m281/282\u001b[0m \u001b[32m━━━━━━━━━━━━━━━━━━━\u001b[0m\u001b[37m━\u001b[0m \u001b[1m0s\u001b[0m 45ms/step - accuracy: 0.8085 - loss: 0.4109\n",
      "Epoch 17: val_loss did not improve from 0.45962\n",
      "\u001b[1m282/282\u001b[0m \u001b[32m━━━━━━━━━━━━━━━━━━━━\u001b[0m\u001b[37m\u001b[0m \u001b[1m13s\u001b[0m 48ms/step - accuracy: 0.8085 - loss: 0.4108 - val_accuracy: 0.7860 - val_loss: 0.4676 - learning_rate: 2.0000e-04\n",
      "Epoch 18/20\n",
      "\u001b[1m281/282\u001b[0m \u001b[32m━━━━━━━━━━━━━━━━━━━\u001b[0m\u001b[37m━\u001b[0m \u001b[1m0s\u001b[0m 46ms/step - accuracy: 0.8122 - loss: 0.4054\n",
      "Epoch 18: val_loss did not improve from 0.45962\n",
      "\u001b[1m282/282\u001b[0m \u001b[32m━━━━━━━━━━━━━━━━━━━━\u001b[0m\u001b[37m\u001b[0m \u001b[1m14s\u001b[0m 49ms/step - accuracy: 0.8122 - loss: 0.4054 - val_accuracy: 0.7864 - val_loss: 0.4668 - learning_rate: 4.0000e-05\n",
      "Epoch 19/20\n",
      "\u001b[1m281/282\u001b[0m \u001b[32m━━━━━━━━━━━━━━━━━━━\u001b[0m\u001b[37m━\u001b[0m \u001b[1m0s\u001b[0m 46ms/step - accuracy: 0.8120 - loss: 0.4041\n",
      "Epoch 19: val_loss did not improve from 0.45962\n",
      "\u001b[1m282/282\u001b[0m \u001b[32m━━━━━━━━━━━━━━━━━━━━\u001b[0m\u001b[37m\u001b[0m \u001b[1m14s\u001b[0m 48ms/step - accuracy: 0.8120 - loss: 0.4041 - val_accuracy: 0.7856 - val_loss: 0.4669 - learning_rate: 4.0000e-05\n",
      "Epoch 20/20\n",
      "\u001b[1m281/282\u001b[0m \u001b[32m━━━━━━━━━━━━━━━━━━━\u001b[0m\u001b[37m━\u001b[0m \u001b[1m0s\u001b[0m 55ms/step - accuracy: 0.8134 - loss: 0.4045\n",
      "Epoch 20: val_loss did not improve from 0.45962\n",
      "\u001b[1m282/282\u001b[0m \u001b[32m━━━━━━━━━━━━━━━━━━━━\u001b[0m\u001b[37m\u001b[0m \u001b[1m16s\u001b[0m 57ms/step - accuracy: 0.8134 - loss: 0.4045 - val_accuracy: 0.7861 - val_loss: 0.4667 - learning_rate: 1.0000e-05\n"
     ]
    }
   ],
   "source": [
    "# 6. Entraîner avec les datasets optimisés\n",
    "history_lstm_word2vec = model_lstm_word2vec.fit(\n",
    "    train_dataset,\n",
    "    epochs=20,\n",
    "    validation_data=val_dataset,\n",
    "    callbacks=[early_stopping, reduce_lr, model_checkpoint],\n",
    "    verbose=1\n",
    ")"
   ]
  },
  {
   "cell_type": "markdown",
   "metadata": {},
   "source": [
    "#### Évaluation du modèle"
   ]
  },
  {
   "cell_type": "code",
   "execution_count": 116,
   "metadata": {},
   "outputs": [
    {
     "name": "stdout",
     "output_type": "stream",
     "text": [
      "\u001b[1m625/625\u001b[0m \u001b[32m━━━━━━━━━━━━━━━━━━━━\u001b[0m\u001b[37m\u001b[0m \u001b[1m11s\u001b[0m 15ms/step\n",
      "\n",
      "Métriques pour le modèle LSTM avec embedding Word2Vec:\n",
      "accuracy: 0.7851\n",
      "precision: 0.7714\n",
      "recall: 0.8102\n",
      "f1_score: 0.7903\n",
      "f2_score: 0.8021\n",
      "roc_auc: 0.8696\n",
      "\n",
      "Rapport de classification:\n",
      "              precision    recall  f1-score   support\n",
      "\n",
      "     Négatif       0.80      0.76      0.78     10000\n",
      "     Positif       0.77      0.81      0.79     10000\n",
      "\n",
      "    accuracy                           0.79     20000\n",
      "   macro avg       0.79      0.79      0.78     20000\n",
      "weighted avg       0.79      0.79      0.78     20000\n",
      "\n"
     ]
    }
   ],
   "source": [
    "# Évaluer le modèle\n",
    "metrics_lstm_word2vec, cm_lstm_word2vec, report_lstm_word2vec, y_pred_lstm_word2vec, y_pred_proba_lstm_word2vec = evaluate_model(\n",
    "    model_lstm_word2vec, \n",
    "    X_test_pad, \n",
    "    y_test\n",
    ")\n",
    "\n",
    "# Afficher les métriques\n",
    "print(\"\\nMétriques pour le modèle LSTM avec embedding Word2Vec:\")\n",
    "for key, value in metrics_lstm_word2vec.items():\n",
    "    print(f\"{key}: {value:.4f}\")\n",
    "\n",
    "print(\"\\nRapport de classification:\")\n",
    "print(report_lstm_word2vec)"
   ]
  },
  {
   "cell_type": "markdown",
   "metadata": {},
   "source": [
    "#### Enregistrement avec MLFlow"
   ]
  },
  {
   "cell_type": "code",
   "execution_count": 119,
   "metadata": {},
   "outputs": [
    {
     "name": "stderr",
     "output_type": "stream",
     "text": [
      "WARNING:absl:You are saving your model as an HDF5 file via `model.save()` or `keras.saving.save_model(model)`. This file format is considered legacy. We recommend using instead the native Keras format, e.g. `model.save('my_model.keras')` or `keras.saving.save_model(model, 'my_model.keras')`. \n"
     ]
    },
    {
     "name": "stdout",
     "output_type": "stream",
     "text": [
      "🏃 View run Modele_Avance_LSTM_Word2Vec-Fige at: https://zany-orbit-q59ppqxj6j34j4x-5001.app.github.dev/#/experiments/52/runs/44c012f086cd49e7a6382a2295577f1b\n",
      "🧪 View experiment at: https://zany-orbit-q59ppqxj6j34j4x-5001.app.github.dev/#/experiments/52\n",
      "🏃 View run Modele_Avance_LSTM_Word2Vec-Fige at: https://zany-orbit-q59ppqxj6j34j4x-5001.app.github.dev/#/experiments/52/runs/44c012f086cd49e7a6382a2295577f1b\n",
      "🧪 View experiment at: https://zany-orbit-q59ppqxj6j34j4x-5001.app.github.dev/#/experiments/52\n"
     ]
    },
    {
     "data": {
      "image/png": "[encoded data removed]",
      "text/plain": [
       "<Figure size 1200x500 with 2 Axes>"
      ]
     },
     "metadata": {},
     "output_type": "display_data"
    }
   ],
   "source": [
    "# Enregistrer avec MLflow\n",
    "params_lstm_word2vec = {\n",
    "    'model_type': 'LSTM',\n",
    "    'embedding_type': 'Word2Vec',\n",
    "    'embedding_dim': 300,\n",
    "    'vocab_size': len(tokenizer.word_index) + 1,\n",
    "    'max_sequence_length': MAX_SEQUENCE_LENGTH,\n",
    "    'trainable_embedding': False,\n",
    "    'batch_size': BATCH_SIZE,\n",
    "    'optimizations': 'cudnn,xla,mixed_precision'\n",
    "}\n",
    "\n",
    "run_id_lstm_word2vec = log_model_to_mlflow(\n",
    "    model_lstm_word2vec,\n",
    "    \"LSTM\",\n",
    "    \"Word2Vec-Fige\",\n",
    "    metrics_lstm_word2vec,\n",
    "    cm_lstm_word2vec,\n",
    "    report_lstm_word2vec,\n",
    "    X_test_pad,\n",
    "    y_test,\n",
    "    params_lstm_word2vec\n",
    ")\n",
    "\n",
    "# Tracer l'historique d'entraînement en passant le run_id pour l'utiliser dans la même exécution MLflow\n",
    "plot_training_history(history_lstm_word2vec, \"LSTM\", \"Word2Vec-Fige\", run_id=run_id_lstm_word2vec)"
   ]
  },
  {
   "cell_type": "markdown",
   "metadata": {},
   "source": [
    "### LSTM avec GloVe 100d"
   ]
  },
  {
   "cell_type": "code",
   "execution_count": 28,
   "metadata": {},
   "outputs": [],
   "source": [
    "# glove_embeddings_100d = load_glove_embeddings(embedding_dim=100)\n",
    "# glove_matrix_100d = create_embedding_matrix(tokenizer.word_index, glove_embeddings_100d, 100)"
   ]
  },
  {
   "cell_type": "code",
   "execution_count": 29,
   "metadata": {},
   "outputs": [],
   "source": [
    "# del glove_embeddings_100d\n",
    "# del glove_matrix_100d"
   ]
  }
 ],
 "metadata": {
  "kernelspec": {
   "display_name": ".venv",
   "language": "python",
   "name": "python3"
  },
  "language_info": {
   "codemirror_mode": {
    "name": "ipython",
    "version": 3
   },
   "file_extension": ".py",
   "mimetype": "text/x-python",
   "name": "python",
   "nbconvert_exporter": "python",
   "pygments_lexer": "ipython3",
   "version": "3.10.12"
  }
 },
 "nbformat": 4,
 "nbformat_minor": 2
}
